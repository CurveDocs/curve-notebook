{
 "cells": [
  {
   "cell_type": "code",
   "execution_count": 1,
   "metadata": {},
   "outputs": [],
   "source": [
    "import boa\n",
    "import os\n",
    "from dotenv import load_dotenv"
   ]
  },
  {
   "cell_type": "code",
   "execution_count": 2,
   "metadata": {},
   "outputs": [],
   "source": [
    "load_dotenv()\n",
    "boa.env.fork(f\"https://eth-mainnet.g.alchemy.com/v2/{os.getenv('ALCHEMY_KEY')}\")"
   ]
  },
  {
   "cell_type": "markdown",
   "metadata": {},
   "source": [
    "# **Curve DAO Token**\n",
    "\n",
    "CRV is a regular ERC20 token and contains the basic ERC20 methods. This notebook will only showcase some additionally added functionalities.\n",
    "\n",
    "*Table of Content:*\n",
    "\n",
    "1. [Querying Contract Informations](#1-querying-external-variables)\n",
    "2. [Contract Ownership](#2-contract-admin)\n",
    "3. [Minter](#3-minter)\n",
    "4. [Change Name and Symbol](#4-changing-name-and-symbol)\n"
   ]
  },
  {
   "cell_type": "code",
   "execution_count": 3,
   "metadata": {},
   "outputs": [],
   "source": [
    "crv_abi = boa.load_abi(\"../contracts/crv.json\", name=\"Curve DAO Token\")\n",
    "crv = crv_abi.at(\"0xD533a949740bb3306d119CC777fa900bA034cd52\")"
   ]
  },
  {
   "cell_type": "markdown",
   "metadata": {},
   "source": [
    "## **1. Querying External Variables**\n",
    "\n",
    "Querying public variables from the token contract is very easy:"
   ]
  },
  {
   "cell_type": "code",
   "execution_count": 4,
   "metadata": {},
   "outputs": [
    {
     "name": "stdout",
     "output_type": "stream",
     "text": [
      "Token Name: Curve DAO Token\n",
      "Token Symbol: CRV\n",
      "Admin: 0x40907540d8a6C65c637785e8f8B742ae6b0b9968\n"
     ]
    }
   ],
   "source": [
    "admin = crv.admin()\n",
    "\n",
    "print(\"Token Name:\", crv.name())\n",
    "print(\"Token Symbol:\", crv.symbol())\n",
    "print(\"Admin:\", crv.admin())"
   ]
  },
  {
   "cell_type": "markdown",
   "metadata": {},
   "source": [
    "## **2. Contract Admin**\n",
    "\n",
    "The Curve DAO Token contract has a `admin`. The functionality of the admin is limited, he can only change the name and symbol of the token or set a new admin. \n",
    "Current admin is the CurveOwnershipAgent (\"0x40907540d8a6C65c637785e8f8B742ae6b0b9968\"), which is controlled by the DAO (veCRV holders). \n",
    "Changing the `admin` of the contract therefore requires a successfully passed DAO vote.\n",
    "\n",
    "- #### `set_admin(_admin: address):`\n",
    "\n",
    "    Function to set/change the admin of the contract.\n",
    "\n",
    "    Emits event: `SetAdmin`\n",
    "\n",
    "    | Input      | Type   | Description |\n",
    "    | ----------- | -------| ----|\n",
    "    | `_admin` |  `address` | New Admin Address |\n"
   ]
  },
  {
   "cell_type": "code",
   "execution_count": 5,
   "metadata": {},
   "outputs": [
    {
     "name": "stdout",
     "output_type": "stream",
     "text": [
      "Admin Before: 0x40907540d8a6C65c637785e8f8B742ae6b0b9968\n",
      "Admin After: 0x7a16fF8270133F063aAb6C9977183D9e72835428\n"
     ]
    }
   ],
   "source": [
    "_admin = \"0x7a16fF8270133F063aAb6C9977183D9e72835428\"\n",
    "\n",
    "print(\"Admin Before:\", crv.admin())\n",
    "\n",
    "with boa.env.prank(\"0x40907540d8a6C65c637785e8f8B742ae6b0b9968\"):\n",
    "    crv.set_admin(_admin)\n",
    "\n",
    "print(\"Admin After:\", crv.admin())"
   ]
  },
  {
   "cell_type": "markdown",
   "metadata": {},
   "source": [
    "## **3. Minter**\n",
    "\n",
    "The Curve DAO Token has a `minter` variable. This address is the only address which is allowed to mint CRV tokens. The specific address is the GaugeController, which mints CRV tokens based on the current `rate` and distributes to the gauges according to the current gauge weights.\n",
    "\n",
    "- #### `mint(_to: address, _value: uint256) -> bool:`\n",
    "\n",
    "    Function to mint `_value (uint256)` and assign them to `_to (address)`.\n",
    "\n",
    "    Returns: True (`bool`)\n",
    "\n",
    "    Emits: `Transfer`\n",
    "\n",
    "    | Input      | Type   | Description |\n",
    "    | ----------- | -------| ----|\n",
    "    | `_to` |  `address` | receiver of the minted tokens |\n",
    "    | `_value` |  `uint256` | amount to mint  |"
   ]
  },
  {
   "cell_type": "code",
   "execution_count": 6,
   "metadata": {},
   "outputs": [
    {
     "name": "stdout",
     "output_type": "stream",
     "text": [
      "CRV Minter: 0xd061D61a4d941c39E5453435B6345Dc261C2fcE0\n"
     ]
    }
   ],
   "source": [
    "print(\"CRV Minter:\", crv.minter())"
   ]
  },
  {
   "cell_type": "code",
   "execution_count": 7,
   "metadata": {},
   "outputs": [
    {
     "name": "stdout",
     "output_type": "stream",
     "text": [
      "Transaction failed.\n"
     ]
    }
   ],
   "source": [
    "_to = \"0x7a16fF8270133F063aAb6C9977183D9e72835428\"\n",
    "_value = 10**18\n",
    "\n",
    "try:    \n",
    "    with boa.env.prank(\"0x7a16fF8270133F063aAb6C9977183D9e72835428\"):\n",
    "        crv.mint(_to, _value)\n",
    "except:\n",
    "    print(\"Transaction failed.\")\n"
   ]
  },
  {
   "cell_type": "markdown",
   "metadata": {},
   "source": [
    "If we sign the same transaction as the `minter`, the transaction passes. In production this is not possible. The minter is the GaugeController and this address can not be changed (see below)."
   ]
  },
  {
   "cell_type": "code",
   "execution_count": 8,
   "metadata": {},
   "outputs": [
    {
     "name": "stdout",
     "output_type": "stream",
     "text": [
      "CRV Token Balance Difference 1.0\n"
     ]
    }
   ],
   "source": [
    "to = \"0x7a16fF8270133F063aAb6C9977183D9e72835428\"\n",
    "value = 10**18\n",
    "\n",
    "before = crv.balanceOf(to)\n",
    "\n",
    "try:    \n",
    "    with boa.env.prank(\"0xd061D61a4d941c39E5453435B6345Dc261C2fcE0\"):\n",
    "        crv.mint(to, value)\n",
    "except:\n",
    "    print(\"Transaction failed.\")\n",
    "\n",
    "after = crv.balanceOf(to)\n",
    "\n",
    "diff = after - before\n",
    "\n",
    "print(\"CRV Token Balance Difference\", diff / 1e18)\n"
   ]
  },
  {
   "cell_type": "markdown",
   "metadata": {},
   "source": [
    "- #### `set_minter(_minter: address):`\"\n",
    "\n",
    "    Function to set the minter contract for the token.\n",
    "\n",
    "    Emits: `SetMinter`\n",
    "\n",
    "    | Input      | Type   | Description |\n",
    "    | ----------- | -------| ----|\n",
    "    | `_minter` |  `address` | New Minter Address |"
   ]
  },
  {
   "cell_type": "markdown",
   "metadata": {},
   "source": [
    "Although there is a functuin to change the minter, is not actually possible to do so. The code checks the following two things:\n",
    "\n",
    "- `assert msg.sender == self.admin  # dev: admin only`\n",
    "- `assert self.minter == ZERO_ADDRESS  # dev: can set the minter only once, at creation`\n",
    "\n",
    "The function must be called by the `admin` and the current minter address (`minter`) needs to be the `ZERO_ADDRESS` (0x0000000000000000000000000000000000000000)."
   ]
  },
  {
   "cell_type": "code",
   "execution_count": 9,
   "metadata": {},
   "outputs": [
    {
     "name": "stdout",
     "output_type": "stream",
     "text": [
      "Transaction failed.\n"
     ]
    }
   ],
   "source": [
    "try:\n",
    "    with boa.env.prank(\"0x40907540d8a6C65c637785e8f8B742ae6b0b9968\"):\n",
    "        crv.set_minter(\"0x7a16fF8270133F063aAb6C9977183D9e72835428\")\n",
    "except:\n",
    "    print(\"Transaction failed.\")"
   ]
  },
  {
   "cell_type": "markdown",
   "metadata": {},
   "source": [
    "The transaction fails because the `minter` address is not `ZERO_ADDRESS`:"
   ]
  },
  {
   "cell_type": "code",
   "execution_count": 10,
   "metadata": {},
   "outputs": [
    {
     "name": "stdout",
     "output_type": "stream",
     "text": [
      "CRV Minter Address: 0xd061D61a4d941c39E5453435B6345Dc261C2fcE0\n"
     ]
    }
   ],
   "source": [
    "print(\"CRV Minter Address:\", crv.minter())"
   ]
  },
  {
   "cell_type": "markdown",
   "metadata": {},
   "source": [
    "## **4. Changing Name and Symbol**\n",
    "\n",
    "Name and symbol of the token can be changed ny the `admin` via the `set_name` function:\n",
    "\n",
    "- #### `set_name(_name: String[64], _symbol: String[32])`\n",
    "\n",
    "    Function to set a new name and symbol for the token.\n",
    "\n",
    "    | Input     | Type         | Description |\n",
    "    | --------- | ------------ | ----------- |\n",
    "    | `_name`   | `String64]`  | New name    |\n",
    "    | `_symbol` | `String[32]` | New Symbol  |"
   ]
  },
  {
   "cell_type": "markdown",
   "metadata": {},
   "source": [
    "`Admin` of the Curve DAO Tokens is the CurveOwnershipAgent (\"0x40907540d8a6C65c637785e8f8B742ae6b0b9968\"). A change of name and/or symbol requires a successfully passed DAO vote. The transaction will revert if someone other than the admin tries to call the function."
   ]
  },
  {
   "cell_type": "code",
   "execution_count": 11,
   "metadata": {},
   "outputs": [
    {
     "name": "stdout",
     "output_type": "stream",
     "text": [
      "New Name: Llama Token\n",
      "New Symbol: llama\n"
     ]
    }
   ],
   "source": [
    "_name = \"Llama Token\"\n",
    "_symbol = \"llama\"\n",
    "admin = crv.admin()\n",
    "\n",
    "with boa.env.prank(admin):\n",
    "    crv.set_name(_name, _symbol)\n",
    "\n",
    "print(\"New Name:\", crv.name())\n",
    "print(\"New Symbol:\", crv.symbol())"
   ]
  }
 ],
 "metadata": {
  "kernelspec": {
   "display_name": "boa",
   "language": "python",
   "name": "python3"
  },
  "language_info": {
   "codemirror_mode": {
    "name": "ipython",
    "version": 3
   },
   "file_extension": ".py",
   "mimetype": "text/x-python",
   "name": "python",
   "nbconvert_exporter": "python",
   "pygments_lexer": "ipython3",
   "version": "3.12.2"
  }
 },
 "nbformat": 4,
 "nbformat_minor": 2
}
