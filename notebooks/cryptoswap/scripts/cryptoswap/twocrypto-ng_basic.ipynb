{
 "cells": [
  {
   "cell_type": "markdown",
   "metadata": {},
   "source": [
    "# **Basic TwoCrypto-NG Contract Methods**\n",
    "\n",
    "**WARNING:** These example methods are for fork mode only. When calling these functions in production, make sure to set the parameters accordingly. For simplicity, we set the minimum amounts for adding/removing liquidity and exchanging tokens to 0. DO NOT do this in production, as you WILL suffer losses!\n",
    "\n",
    "*Not covered (will have their own notebooks):*  \n",
    "- `exchange_extended`\n",
    "- Oracles and their behavior\n",
    "- Admin controls such as changing parameters\n"
   ]
  },
  {
   "cell_type": "code",
   "execution_count": 1,
   "metadata": {},
   "outputs": [],
   "source": [
    "import boa"
   ]
  },
  {
   "cell_type": "code",
   "execution_count": 2,
   "metadata": {},
   "outputs": [
    {
     "name": "stdout",
     "output_type": "stream",
     "text": [
      "0xd13f0Bd22AFF8176761AEFBfC052a7490bDe268E 0xA73d7cddCf77c00827459f986bf828999B58C6Fe 0x1fb0aF040B7bbA2A6f69e77DA9C0dCb7785b3A3B\n"
     ]
    }
   ],
   "source": [
    "admin = boa.env.generate_address()\n",
    "fee_receiver = boa.env.generate_address()\n",
    "trader = boa.env.generate_address()\n",
    "print(admin, fee_receiver, trader)"
   ]
  },
  {
   "cell_type": "markdown",
   "metadata": {},
   "source": [
    "## **Coin mocks**\n",
    "\n",
    "Creating two mock coins (`coin_a`, `coin_b`) and mint some tokens to `trader`."
   ]
  },
  {
   "cell_type": "code",
   "execution_count": 3,
   "metadata": {},
   "outputs": [
    {
     "name": "stderr",
     "output_type": "stream",
     "text": [
      "/Users/mo/Documents/CurveDocs/venv-notebook/lib/python3.11/site-packages/vyper/ast/folding.py:153: UserWarning: ZERO_ADDRESS is deprecated. Please use `empty(address)` instead.\n",
      "  warnings.warn(f\"{name} is deprecated. Please use `{replacement}` instead.\")\n"
     ]
    },
    {
     "name": "stdout",
     "output_type": "stream",
     "text": [
      "<../../contracts/twocrypto-ng/mocks/ERC20Mock.vy at 0x0880cf17Bd263d3d3a5c09D2D86cCecA3CcbD97c, compiled with vyper-0.3.10+9136169>\n",
      "<storage: name=coin_a\u0000\u0000\u0000\u0000\u0000\u0000\u0000\u0000\u0000\u0000\u0000\u0000\u0000\u0000\u0000\u0000\u0000\u0000\u0000\u0000\u0000\u0000\u0000\u0000\u0000\u0000, symbol=coin_a\u0000\u0000\u0000\u0000\u0000\u0000\u0000\u0000\u0000\u0000\u0000\u0000\u0000\u0000\u0000\u0000\u0000\u0000\u0000\u0000\u0000\u0000\u0000\u0000\u0000\u0000, decimals=18, balanceOf={'0x1fb0aF040B7bbA2A6f69e77DA9C0dCb7785b3A3B': 10000000000000000000000000}, allowances={}, totalSupply=10000000000000000000000000> <../../contracts/twocrypto-ng/mocks/ERC20Mock.vy at 0x2cb6bCe32aeF4eD506382896e702DE7Ff109D9E9, compiled with vyper-0.3.10+9136169>\n",
      "<storage: name=coin_b\u0000\u0000\u0000\u0000\u0000\u0000\u0000\u0000\u0000\u0000\u0000\u0000\u0000\u0000\u0000\u0000\u0000\u0000\u0000\u0000\u0000\u0000\u0000\u0000\u0000\u0000, symbol=coin_b\u0000\u0000\u0000\u0000\u0000\u0000\u0000\u0000\u0000\u0000\u0000\u0000\u0000\u0000\u0000\u0000\u0000\u0000\u0000\u0000\u0000\u0000\u0000\u0000\u0000\u0000, decimals=18, balanceOf={'0x1fb0aF040B7bbA2A6f69e77DA9C0dCb7785b3A3B': 10000000000000000000000000}, allowances={}, totalSupply=10000000000000000000000000>\n"
     ]
    }
   ],
   "source": [
    "coin_a = boa.load(\"../../contracts/twocrypto-ng/mocks/ERC20Mock.vy\", \"coin_a\", \"coin_a\", 18)\n",
    "coin_b = boa.load(\"../../contracts/twocrypto-ng/mocks/ERC20Mock.vy\", \"coin_b\", \"coin_b\", 18)\n",
    "\n",
    "coin_a._mint_for_testing(trader, 10**25, sender=trader)\n",
    "coin_b._mint_for_testing(trader, 10**25, sender=trader)\n",
    "print(coin_a, coin_b)"
   ]
  },
  {
   "cell_type": "markdown",
   "metadata": {},
   "source": [
    "## **Deploy TwoCrypto-NG Infrastructure**\n",
    "\n",
    "First, we need to deploy the TwoCrypto-NG infrastructure, consisting of a pool implementation, math and views contract, and the pool factory. For simplicity, we have generated some **random addresses** for `admin` and `fee_receiver`."
   ]
  },
  {
   "cell_type": "code",
   "execution_count": 4,
   "metadata": {},
   "outputs": [
    {
     "name": "stderr",
     "output_type": "stream",
     "text": [
      "/Users/mo/Documents/CurveDocs/venv-notebook/lib/python3.11/site-packages/vyper/semantics/types/subscriptable.py:115: UserWarning: Use of large arrays can be unsafe!\n",
      "  warnings.warn(\"Use of large arrays can be unsafe!\")\n"
     ]
    },
    {
     "name": "stdout",
     "output_type": "stream",
     "text": [
      "Factory: 0xC6Acb7D16D51f72eAA659668F30A40d87E2E0551\n",
      "Pool Implementation: 0x3d06E92f20305D9a2D71a1D479E9EE22690Ae7E4\n",
      "Gauge Implementation: 0x78548820b365886d05009F1127bf553603E5A836\n",
      "Math Implementation: 0xB822167C7EefF0B53DcfDEE2D8fe73dEDB25505b\n",
      "Views Implementation: 0xDa5e407C7b1887E7f76c920B70614e73feA0DDA1\n"
     ]
    }
   ],
   "source": [
    "pool_implementation = boa.load_partial(\"../../contracts/twocrypto-ng/main/CurveTwocryptoOptimized.vy\")\n",
    "gauge_implementation = boa.load_partial(\"../../contracts/twocrypto-ng/main/LiquidityGauge.vy\")\n",
    "math_implementation = boa.load(\"../../contracts/twocrypto-ng/main/CurveCryptoMathOptimized2.vy\")\n",
    "views_implementation = boa.load(\"../../contracts/twocrypto-ng/main/CurveCryptoViews2Optimized.vy\")\n",
    "\n",
    "with boa.env.prank(admin):\n",
    "    factory = boa.load(\"../../contracts/twocrypto-ng/main/CurveTwocryptoFactory.vy\")\n",
    "    factory.initialise_ownership(fee_receiver, admin)\n",
    "\n",
    "    factory.set_pool_implementation(pool_implementation.deploy_as_blueprint().address, 0)\n",
    "    factory.set_gauge_implementation(gauge_implementation.deploy_as_blueprint().address)\n",
    "    factory.set_math_implementation(math_implementation.address)\n",
    "    factory.set_views_implementation(views_implementation.address)\n",
    "\n",
    "print(\n",
    "    \"Factory: \" + factory.address + \"\\n\" +\n",
    "    \"Pool Implementation: \" + factory.pool_implementations(0) + \"\\n\" +\n",
    "    \"Gauge Implementation: \" + factory.gauge_implementation() + \"\\n\" +\n",
    "    \"Math Implementation: \" + factory.math_implementation() + \"\\n\" +\n",
    "    \"Views Implementation: \" + factory.views_implementation()\n",
    "    )"
   ]
  },
  {
   "cell_type": "markdown",
   "metadata": {},
   "source": [
    "## **Deploying a Liquidity Pool**\n",
    "\n",
    "We can now deploy a liquidity pool from the factory contract. Therefore, we set some values for the parameters. \n",
    "\n",
    "**NOTE:** Some of these parameters may have upper or lower bounds. When deploying, please make sure to use valid values."
   ]
  },
  {
   "cell_type": "code",
   "execution_count": 5,
   "metadata": {},
   "outputs": [],
   "source": [
    "# prepare pool params for deployment\n",
    "\n",
    "A = 400000\n",
    "gamma = 145000000000000\n",
    "mid_fee = 26000000\n",
    "out_fee = 45000000\n",
    "allowed_extra_profit = 2000000000000\n",
    "fee_gamma = 230000000000000\n",
    "adjustment_step = 146000000000000\n",
    "ma_time = 600\n",
    "xcp_ma_time = 1800 * 24\n",
    "initial_price = 10**18  # 1:1 at the start\n",
    "admin_fee = 5 * 10**9"
   ]
  },
  {
   "cell_type": "code",
   "execution_count": 6,
   "metadata": {},
   "outputs": [
    {
     "data": {
      "text/plain": [
       "<../../contracts/twocrypto-ng/main/CurveTwocryptoOptimized.vy at 0x5Bac22268eecccDF2fa09D03eC0D0fDbA2848ba2, compiled with vyper-0.3.10+9136169>\n",
       "<storage: cached_price_scale=1000000000000000000, cached_price_oracle=1000000000000000000, cached_xcp_oracle=0, last_prices=1000000000000000000, last_timestamp=580275158891956380444168496012540517589130178596, last_xcp=0, xcp_ma_time=62324, initial_A_gamma=136112946768375385385349842972852284582400000, initial_A_gamma_time=0, future_A_gamma=136112946768375385385349842972852284582400000, future_A_gamma_time=0, balances=[0, 0], D=0, xcp_profit=0, xcp_profit_a=1000000000000000000, virtual_price=0, packed_rebalancing_params=680564733841876929619973849625130958848000000000865, packed_fee_params=8847341539944400050877843276543133320576000000, last_admin_fee_claim_timestamp=0, admin_lp_virtual_balance=0, balanceOf={}, allowance={}, totalSupply=0, nonces={}>"
      ]
     },
     "execution_count": 6,
     "metadata": {},
     "output_type": "execute_result"
    }
   ],
   "source": [
    "# deploying the pool\n",
    "\n",
    "pool = factory.deploy_pool(\n",
    "    \"ng\", \"ng\", [coin_a.address, coin_b.address],\n",
    "    0, A, gamma, mid_fee, out_fee, fee_gamma, allowed_extra_profit, adjustment_step, int(ma_time/0.693), initial_price\n",
    ")\n",
    "pool = pool_implementation.at(pool)\n",
    "pool"
   ]
  },
  {
   "cell_type": "markdown",
   "metadata": {},
   "source": [
    "## **Query Basic Variables of the Pool**\n",
    "\n",
    "We can now query variables from the contract to check if the pool has been deployed correctly.\n"
   ]
  },
  {
   "cell_type": "code",
   "execution_count": 7,
   "metadata": {},
   "outputs": [
    {
     "name": "stdout",
     "output_type": "stream",
     "text": [
      "A: 400000\n",
      "gamma: 145000000000000\n",
      "mid_fee: 26000000\n",
      "out_fee: 45000000\n",
      "allowed_extra_profit: 2000000000000\n",
      "fee_gamma: 230000000000000\n",
      "adjustment_step: 146000000000000\n",
      "ma_time: 600\n",
      "xcp_ma_time: 62324\n",
      "ADMIN_FEE: 5000000000\n",
      "pool balance coin_a: 0\n",
      "pool balance coin_b: 0\n",
      "trader balance coin_a: 10000000.0\n",
      "trader balance coin_a: 10000000.0\n"
     ]
    }
   ],
   "source": [
    "print(\n",
    "    \"A: \" + str(pool.A()) + \"\\n\" +\n",
    "    \"gamma: \" + str(pool.gamma()) + \"\\n\" +\n",
    "    \"mid_fee: \" + str(pool.mid_fee()) + \"\\n\" +\n",
    "    \"out_fee: \" + str(pool.out_fee()) + \"\\n\" +\n",
    "    \"allowed_extra_profit: \" + str(pool.allowed_extra_profit()) + \"\\n\" +\n",
    "    \"fee_gamma: \" + str(pool.fee_gamma()) + \"\\n\" +\n",
    "    \"adjustment_step: \" + str(pool.adjustment_step()) + \"\\n\" +\n",
    "    \"ma_time: \" + str(pool.ma_time()) + \"\\n\" +\n",
    "    \"xcp_ma_time: \" + str(pool.xcp_ma_time()) + \"\\n\" +\n",
    "    \"ADMIN_FEE: \" + str(pool.ADMIN_FEE()) + \"\\n\" +\n",
    "    \"pool balance coin_a: \" + str(pool.balances(0)) + \"\\n\" +\n",
    "    \"pool balance coin_b: \" + str(pool.balances(1)) + \"\\n\" +\n",
    "    \"trader balance coin_a: \" + str(coin_a.balanceOf(trader)/10**18) + \"\\n\" +\n",
    "    \"trader balance coin_a: \" + str(coin_b.balanceOf(trader)/10**18)\n",
    ")\n"
   ]
  },
  {
   "cell_type": "markdown",
   "metadata": {},
   "source": [
    "## **Add and Remove Liquidity**\n",
    "\n",
    "We have successfully created a TwoCrypto-NG liquidity pool with some valid parameters. \n",
    "\n",
    "Before we can exchange tokens, we need to ensure there is liquidity in the pool. However, even before that, we need to approve the contract to be able to spend our coins (`coin_a`, `coin_b`)."
   ]
  },
  {
   "cell_type": "code",
   "execution_count": 8,
   "metadata": {},
   "outputs": [
    {
     "name": "stdout",
     "output_type": "stream",
     "text": [
      "{'0x1fb0aF040B7bbA2A6f69e77DA9C0dCb7785b3A3B': {'0x5Bac22268eecccDF2fa09D03eC0D0fDbA2848ba2': 115792089237316195423570985008687907853269984665640564039457584007913129639935}}\n",
      "{'0x1fb0aF040B7bbA2A6f69e77DA9C0dCb7785b3A3B': {'0x5Bac22268eecccDF2fa09D03eC0D0fDbA2848ba2': 115792089237316195423570985008687907853269984665640564039457584007913129639935}}\n"
     ]
    }
   ],
   "source": [
    "# grant max approval\n",
    "\n",
    "with boa.env.prank(trader):\n",
    "    for coin in [coin_a, coin_b]:\n",
    "        coin.approve(pool, 2**256-1)\n",
    "\n",
    "print(coin_a._storage.allowances.get())\n",
    "print(coin_b._storage.allowances.get())"
   ]
  },
  {
   "cell_type": "code",
   "execution_count": 9,
   "metadata": {},
   "outputs": [
    {
     "name": "stdout",
     "output_type": "stream",
     "text": [
      "pool balance coin_a: 100000000000000000000\n",
      "pool balance coin_b: 100000000000000000000\n",
      "trader lp token balance: 100.0\n",
      "trader balance coin_a: 9999900.0\n",
      "trader balance coin_b: 9999900.0\n"
     ]
    }
   ],
   "source": [
    "# We now add liquidity in a balanced portion.\n",
    "\n",
    "with boa.env.prank(trader):\n",
    "    pool.add_liquidity([10**20, 10**20], 0)\n",
    "\n",
    "print(\n",
    "    \"pool balance coin_a: \" + str(pool.balances(0)) + \"\\n\" +\n",
    "    \"pool balance coin_b: \" + str(pool.balances(1)) + \"\\n\" +\n",
    "    \"trader lp token balance: \" + str(pool.balanceOf(trader) / 10**18) + \"\\n\" +\n",
    "    \"trader balance coin_a: \" + str(coin_a.balanceOf(trader) / 10**18) + \"\\n\" +\n",
    "    \"trader balance coin_b: \" + str(coin_b.balanceOf(trader) / 10**18)\n",
    ")"
   ]
  },
  {
   "cell_type": "code",
   "execution_count": 10,
   "metadata": {},
   "outputs": [
    {
     "name": "stdout",
     "output_type": "stream",
     "text": [
      "pool balance coin_a: 110000000000000000000\n",
      "pool balance coin_b: 100000000000000000000\n",
      "trader lp token balance: 104.9103149267059\n",
      "trader balance coin_a: 9999890.0\n",
      "trader balance coin_b: 9999900.0\n"
     ]
    }
   ],
   "source": [
    "# We also add liquidity in unbalanced portions or even fully single-sided.\n",
    "\n",
    "with boa.env.prank(trader):\n",
    "    pool.add_liquidity([10**19, 0], 0)\n",
    "\n",
    "print(\n",
    "    \"pool balance coin_a: \" + str(pool.balances(0)) + \"\\n\" +\n",
    "    \"pool balance coin_b: \" + str(pool.balances(1)) + \"\\n\" +\n",
    "    \"trader lp token balance: \" + str(pool.balanceOf(trader) / 10**18) + \"\\n\" +\n",
    "    \"trader balance coin_a: \" + str(coin_a.balanceOf(trader) / 10**18) + \"\\n\" +\n",
    "    \"trader balance coin_b: \" + str(coin_b.balanceOf(trader) / 10**18)\n",
    ")"
   ]
  },
  {
   "cell_type": "code",
   "execution_count": 11,
   "metadata": {},
   "outputs": [
    {
     "name": "stdout",
     "output_type": "stream",
     "text": [
      "pool balance coin_a: 109999999999999725140\n",
      "pool balance coin_b: 99999999999999750127\n",
      "trader lp token balance: 104.91031492670564\n",
      "trader balance coin_a: 9999890.0\n",
      "trader balance coin_b: 9999900.0\n"
     ]
    }
   ],
   "source": [
    "# remove liquidity via `remove_liquidity()`; this removes liquidity in a balanced portion\n",
    "\n",
    "with boa.env.prank(trader):\n",
    "    pool.remove_liquidity(2**18, [0, 0])\n",
    "\n",
    "print(\n",
    "    \"pool balance coin_a: \" + str(pool.balances(0)) + \"\\n\" +\n",
    "    \"pool balance coin_b: \" + str(pool.balances(1)) + \"\\n\" +\n",
    "    \"trader lp token balance: \" + str(pool.balanceOf(trader) / 10**18) + \"\\n\" +\n",
    "    \"trader balance coin_a: \" + str(coin_a.balanceOf(trader) / 10**18) + \"\\n\" +\n",
    "    \"trader balance coin_b: \" + str(coin_b.balanceOf(trader) / 10**18)\n",
    ")"
   ]
  },
  {
   "cell_type": "code",
   "execution_count": 12,
   "metadata": {},
   "outputs": [
    {
     "name": "stdout",
     "output_type": "stream",
     "text": [
      "pool balance coin_a: 107925361718425750945\n",
      "pool balance coin_b: 99992357851252493594\n",
      "trader lp token balance:103.91031492670564\n",
      "trader balance coin_a: 9999892.066231918\n",
      "trader balance coin_b: 9999900.0\n"
     ]
    }
   ],
   "source": [
    "# remove liquidity one sided\n",
    "\n",
    "with boa.env.prank(trader):\n",
    "    pool.remove_liquidity_one_coin(10**18, 0, 0)\n",
    "\n",
    "print(\n",
    "    \"pool balance coin_a: \" + str(pool.balances(0)) + \"\\n\" +\n",
    "    \"pool balance coin_b: \" + str(pool.balances(1)) + \"\\n\" +\n",
    "    \"trader lp token balance:\" + str(pool.balanceOf(trader) / 10**18) + \"\\n\" +\n",
    "    \"trader balance coin_a: \" + str(coin_a.balanceOf(trader) / 10**18) + \"\\n\" +\n",
    "    \"trader balance coin_b: \" + str(coin_b.balanceOf(trader) / 10**18)\n",
    ")"
   ]
  },
  {
   "cell_type": "markdown",
   "metadata": {},
   "source": [
    "# **Exchanging Tokens**\n",
    "\n",
    "Now that the pool has some liquidity, we can do a token exchange. Lets swap 10^18 (`dx`) coins of coin(1) (`i`) for coin(0) (`j`).\n",
    "\n",
    "NOTE: `exchange_extended` will be showcased in a seperate notebook!"
   ]
  },
  {
   "cell_type": "code",
   "execution_count": 13,
   "metadata": {},
   "outputs": [
    {
     "name": "stdout",
     "output_type": "stream",
     "text": [
      "pool balance coin_a: 106879520235153785405\n",
      "pool balance coin_b: 100992357851252493594\n",
      "trader balance coin_a: 9999893.112073401\n",
      "trader balance coin_b: 9999899.0\n",
      "diff coin_a: 1.0458414832719656\n",
      "diff coin_b: -1.0\n"
     ]
    }
   ],
   "source": [
    "before_a = coin_a.balanceOf(trader)\n",
    "before_b = coin_b.balanceOf(trader)\n",
    "\n",
    "with boa.env.prank(trader):\n",
    "    pool.exchange(1, 0, 10**18, 0)\n",
    "\n",
    "after_a = coin_a.balanceOf(trader)\n",
    "after_b = coin_b.balanceOf(trader)\n",
    "\n",
    "boa.env.time_travel(100)\n",
    "\n",
    "print(\n",
    "    \"pool balance coin_a: \" + str(pool.balances(0)) + \"\\n\" +\n",
    "    \"pool balance coin_b: \" + str(pool.balances(1)) + \"\\n\" +\n",
    "    \"trader balance coin_a: \" + str(coin_a.balanceOf(trader) / 10**18) + \"\\n\" +\n",
    "    \"trader balance coin_b: \" + str(coin_b.balanceOf(trader) / 10**18) + \"\\n\" +\n",
    "    \"diff coin_a: \" + str((after_a - before_a) / 10**18) + \"\\n\" +\n",
    "    \"diff coin_b: \" + str((after_b - before_b) / 10**18)\n",
    ")"
   ]
  }
 ],
 "metadata": {
  "kernelspec": {
   "display_name": "venv-notebook",
   "language": "python",
   "name": "python3"
  },
  "language_info": {
   "codemirror_mode": {
    "name": "ipython",
    "version": 3
   },
   "file_extension": ".py",
   "mimetype": "text/x-python",
   "name": "python",
   "nbconvert_exporter": "python",
   "pygments_lexer": "ipython3",
   "version": "3.11.6"
  }
 },
 "nbformat": 4,
 "nbformat_minor": 2
}
