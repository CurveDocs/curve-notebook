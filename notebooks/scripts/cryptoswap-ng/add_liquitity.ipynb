{
 "cells": [
  {
   "cell_type": "code",
   "execution_count": 1,
   "metadata": {},
   "outputs": [],
   "source": [
    "import boa"
   ]
  },
  {
   "cell_type": "code",
   "execution_count": 2,
   "metadata": {},
   "outputs": [
    {
     "name": "stdout",
     "output_type": "stream",
     "text": [
      "0xd13f0Bd22AFF8176761AEFBfC052a7490bDe268E 0xA73d7cddCf77c00827459f986bf828999B58C6Fe 0x1fb0aF040B7bbA2A6f69e77DA9C0dCb7785b3A3B\n"
     ]
    }
   ],
   "source": [
    "admin = boa.env.generate_address()\n",
    "fee_receiver = boa.env.generate_address()\n",
    "trader = boa.env.generate_address()\n",
    "print(admin, fee_receiver, trader)"
   ]
  },
  {
   "cell_type": "code",
   "execution_count": 3,
   "metadata": {},
   "outputs": [
    {
     "name": "stderr",
     "output_type": "stream",
     "text": [
      "/Users/mo/Documents/CurveDocs/venv-notebook/lib/python3.11/site-packages/vyper/ast/folding.py:153: UserWarning: ZERO_ADDRESS is deprecated. Please use `empty(address)` instead.\n",
      "  warnings.warn(f\"{name} is deprecated. Please use `{replacement}` instead.\")\n"
     ]
    },
    {
     "name": "stdout",
     "output_type": "stream",
     "text": [
      "<../../contracts/twocrypto-ng/mocks/ERC20Mock.vy at 0x0880cf17Bd263d3d3a5c09D2D86cCecA3CcbD97c, compiled with vyper-0.3.10+9136169>\n",
      "<storage: name=coin_a\u0000\u0000\u0000\u0000\u0000\u0000\u0000\u0000\u0000\u0000\u0000\u0000\u0000\u0000\u0000\u0000\u0000\u0000\u0000\u0000\u0000\u0000\u0000\u0000\u0000\u0000, symbol=coin_a\u0000\u0000\u0000\u0000\u0000\u0000\u0000\u0000\u0000\u0000\u0000\u0000\u0000\u0000\u0000\u0000\u0000\u0000\u0000\u0000\u0000\u0000\u0000\u0000\u0000\u0000, decimals=18, balanceOf={'0x1fb0aF040B7bbA2A6f69e77DA9C0dCb7785b3A3B': 1000000000000000000000}, allowances={}, totalSupply=1000000000000000000000> <../../contracts/twocrypto-ng/mocks/ERC20Mock.vy at 0x2cb6bCe32aeF4eD506382896e702DE7Ff109D9E9, compiled with vyper-0.3.10+9136169>\n",
      "<storage: name=coin_b\u0000\u0000\u0000\u0000\u0000\u0000\u0000\u0000\u0000\u0000\u0000\u0000\u0000\u0000\u0000\u0000\u0000\u0000\u0000\u0000\u0000\u0000\u0000\u0000\u0000\u0000, symbol=coin_b\u0000\u0000\u0000\u0000\u0000\u0000\u0000\u0000\u0000\u0000\u0000\u0000\u0000\u0000\u0000\u0000\u0000\u0000\u0000\u0000\u0000\u0000\u0000\u0000\u0000\u0000, decimals=18, balanceOf={'0x1fb0aF040B7bbA2A6f69e77DA9C0dCb7785b3A3B': 1000000000000000000000}, allowances={}, totalSupply=1000000000000000000000>\n"
     ]
    }
   ],
   "source": [
    "coin_a = boa.load(\"../../contracts/twocrypto-ng/mocks/ERC20Mock.vy\", \"coin_a\", \"coin_a\", 18)\n",
    "coin_b = boa.load(\"../../contracts/twocrypto-ng/mocks/ERC20Mock.vy\", \"coin_b\", \"coin_b\", 18)\n",
    "\n",
    "\n",
    "# we mint the trade 1000 coins each (10^21)\n",
    "coin_a._mint_for_testing(trader, 10**21, sender=trader)\n",
    "coin_b._mint_for_testing(trader, 10**21, sender=trader)\n",
    "print(coin_a, coin_b)"
   ]
  },
  {
   "cell_type": "code",
   "execution_count": 4,
   "metadata": {},
   "outputs": [
    {
     "name": "stderr",
     "output_type": "stream",
     "text": [
      "/Users/mo/Documents/CurveDocs/venv-notebook/lib/python3.11/site-packages/vyper/semantics/types/subscriptable.py:115: UserWarning: Use of large arrays can be unsafe!\n",
      "  warnings.warn(\"Use of large arrays can be unsafe!\")\n"
     ]
    },
    {
     "name": "stdout",
     "output_type": "stream",
     "text": [
      "Factory: 0xC6Acb7D16D51f72eAA659668F30A40d87E2E0551\n",
      "Pool Implementation: 0x3d06E92f20305D9a2D71a1D479E9EE22690Ae7E4\n",
      "Gauge Implementation: 0x78548820b365886d05009F1127bf553603E5A836\n",
      "Math Implementation: 0xB822167C7EefF0B53DcfDEE2D8fe73dEDB25505b\n",
      "Views Implementation: 0xDa5e407C7b1887E7f76c920B70614e73feA0DDA1\n"
     ]
    }
   ],
   "source": [
    "pool_implementation = boa.load_partial(\"../../contracts/twocrypto-ng/main/CurveTwocryptoOptimized.vy\")\n",
    "gauge_implementation = boa.load_partial(\"../../contracts/twocrypto-ng/main/LiquidityGauge.vy\")\n",
    "math_implementation = boa.load(\"../../contracts/twocrypto-ng/main/CurveCryptoMathOptimized2.vy\")\n",
    "views_implementation = boa.load(\"../../contracts/twocrypto-ng/main/CurveCryptoViews2Optimized.vy\")\n",
    "\n",
    "with boa.env.prank(admin):\n",
    "    factory = boa.load(\"../../contracts/twocrypto-ng/main/CurveTwocryptoFactory.vy\")\n",
    "    factory.initialise_ownership(fee_receiver, admin)\n",
    "\n",
    "    factory.set_pool_implementation(pool_implementation.deploy_as_blueprint().address, 0)\n",
    "    factory.set_gauge_implementation(gauge_implementation.deploy_as_blueprint().address)\n",
    "    factory.set_math_implementation(math_implementation.address)\n",
    "    factory.set_views_implementation(views_implementation.address)\n",
    "\n",
    "print(\n",
    "    \"Factory: \" + factory.address + \"\\n\" +\n",
    "    \"Pool Implementation: \" + factory.pool_implementations(0) + \"\\n\" +\n",
    "    \"Gauge Implementation: \" + factory.gauge_implementation() + \"\\n\" +\n",
    "    \"Math Implementation: \" + factory.math_implementation() + \"\\n\" +\n",
    "    \"Views Implementation: \" + factory.views_implementation()\n",
    "    )"
   ]
  },
  {
   "cell_type": "code",
   "execution_count": 5,
   "metadata": {},
   "outputs": [
    {
     "data": {
      "text/plain": [
       "<../../contracts/twocrypto-ng/main/CurveTwocryptoOptimized.vy at 0x5Bac22268eecccDF2fa09D03eC0D0fDbA2848ba2, compiled with vyper-0.3.10+9136169>\n",
       "<storage: cached_price_scale=1000000000000000000, cached_price_oracle=1000000000000000000, cached_xcp_oracle=0, last_prices=1000000000000000000, last_timestamp=580322366264719322237204769971829526793105608206, last_xcp=0, xcp_ma_time=62324, initial_A_gamma=136112946768375385385349842972852284582400000, initial_A_gamma_time=0, future_A_gamma=136112946768375385385349842972852284582400000, future_A_gamma_time=0, balances=[0, 0], D=0, xcp_profit=0, xcp_profit_a=1000000000000000000, virtual_price=0, packed_rebalancing_params=680564733841876929619973849625130958848000000000865, packed_fee_params=8847341539944400050877843276543133320576000000, last_admin_fee_claim_timestamp=0, admin_lp_virtual_balance=0, balanceOf={}, allowance={}, totalSupply=0, nonces={}>"
      ]
     },
     "execution_count": 5,
     "metadata": {},
     "output_type": "execute_result"
    }
   ],
   "source": [
    "# prepare pool params for deployment\n",
    "\n",
    "A = 400000\n",
    "gamma = 145000000000000\n",
    "mid_fee = 26000000\n",
    "out_fee = 45000000\n",
    "allowed_extra_profit = 2000000000000\n",
    "fee_gamma = 230000000000000\n",
    "adjustment_step = 146000000000000\n",
    "ma_time = 600\n",
    "xcp_ma_time = 1800 * 24\n",
    "initial_price = 10**18  # 1:1 at the start\n",
    "admin_fee = 5 * 10**9\n",
    "\n",
    "\n",
    "# deploying the pool\n",
    "\n",
    "pool = factory.deploy_pool(\n",
    "    \"ng\", \"ng\", [coin_a.address, coin_b.address],\n",
    "    0, A, gamma, mid_fee, out_fee, fee_gamma, allowed_extra_profit, adjustment_step, int(ma_time/0.693), initial_price\n",
    ")\n",
    "pool = pool_implementation.at(pool)\n",
    "pool"
   ]
  },
  {
   "cell_type": "markdown",
   "metadata": {},
   "source": [
    "## Adding Liquidity to the Pool\n",
    "\n",
    "First, we define a function to check the balances of the trader and the pool:"
   ]
  },
  {
   "cell_type": "code",
   "execution_count": 6,
   "metadata": {},
   "outputs": [
    {
     "name": "stdout",
     "output_type": "stream",
     "text": [
      "TRADER BALANCES:\n",
      "coin a: 1000.0\n",
      "coin b: 1000.0\n",
      "lp tokens: 0.0\n",
      "---------\n",
      "POOL BALANCES:\n",
      "coin a: 0.0\n",
      "coin b: 0.0\n"
     ]
    }
   ],
   "source": [
    "def get_balances():\n",
    "    trader_balance_a = coin_a.balanceOf(trader)\n",
    "    trader_balance_b = coin_b.balanceOf(trader)\n",
    "    lp_tokens = pool.balanceOf(trader)\n",
    "    pool_balance_a = pool.balances(0)\n",
    "    pool_balance_b = pool.balances(1)\n",
    "\n",
    "    print(\n",
    "        \"TRADER BALANCES:\\n\"\n",
    "        \"coin a: \" + str(trader_balance_a / 10**18) + \"\\n\"\n",
    "        \"coin b: \" + str(trader_balance_b / 10**18) + \"\\n\"\n",
    "        \"lp tokens: \" + str(lp_tokens / 10**18) + \"\\n\" +\n",
    "        \"---------\\n\"\n",
    "        \"POOL BALANCES:\\n\"\n",
    "        \"coin a: \" + str(pool_balance_a / 10**18) + \"\\n\"\n",
    "        \"coin b: \" + str(pool_balance_b / 10**18)\n",
    "    )\n",
    "\n",
    "get_balances()"
   ]
  },
  {
   "cell_type": "code",
   "execution_count": 7,
   "metadata": {},
   "outputs": [
    {
     "name": "stdout",
     "output_type": "stream",
     "text": [
      "{'0x1fb0aF040B7bbA2A6f69e77DA9C0dCb7785b3A3B': {'0x5Bac22268eecccDF2fa09D03eC0D0fDbA2848ba2': 115792089237316195423570985008687907853269984665640564039457584007913129639935}}\n",
      "{'0x1fb0aF040B7bbA2A6f69e77DA9C0dCb7785b3A3B': {'0x5Bac22268eecccDF2fa09D03eC0D0fDbA2848ba2': 115792089237316195423570985008687907853269984665640564039457584007913129639935}}\n"
     ]
    }
   ],
   "source": [
    "# grant max approval\n",
    "\n",
    "with boa.env.prank(trader):\n",
    "    for coin in [coin_a, coin_b]:\n",
    "        coin.approve(pool, 2**256-1)\n",
    "\n",
    "print(coin_a._storage.allowances.get())\n",
    "print(coin_b._storage.allowances.get())"
   ]
  },
  {
   "cell_type": "markdown",
   "metadata": {},
   "source": [
    "---\n",
    "\n",
    "The **`add_liquidity`** function uses the following input values:\n",
    "\n",
    "| Input            | Type                | Description                                           |\n",
    "| ---------------- | ------------------- | ----------------------------------------------------- |\n",
    "| `amounts`        | `uint256[N_COINS]`  | Amount of each coin to add. `amount_a` is for `Pool.coins(0)`, `amount_b` `Pool.coins(1)`.                           |\n",
    "| `min_mint_amount`| `uint256`           | Minimum amount of LP tokens to mint.                  |\n",
    "| `receiver`       | `address`           | Receiver of the LP tokens; defaults to `msg.sender`.  |\n",
    "\n",
    "First, we add some liquidity single sided and check the coin balances before and after:"
   ]
  },
  {
   "cell_type": "code",
   "execution_count": 8,
   "metadata": {},
   "outputs": [
    {
     "name": "stdout",
     "output_type": "stream",
     "text": [
      "TRADER BALANCES:\n",
      "coin a: 1000.0\n",
      "coin b: 1000.0\n",
      "lp tokens: 0.0\n",
      "---------\n",
      "POOL BALANCES:\n",
      "coin a: 0.0\n",
      "coin b: 0.0\n",
      "-----------\n",
      "TRADER BALANCES:\n",
      "coin a: 900.0\n",
      "coin b: 900.0\n",
      "lp tokens: 100.0\n",
      "---------\n",
      "POOL BALANCES:\n",
      "coin a: 100.0\n",
      "coin b: 100.0\n"
     ]
    }
   ],
   "source": [
    "amounts_a = 10**20  # Pool.coins(0)\n",
    "amounts_b = 10**20  # Pool.coins(1)\n",
    "min_mint_amount = 99\n",
    "receiver = trader\n",
    "\n",
    "# we check the balances before providing liquidity\n",
    "get_balances()\n",
    "\n",
    "with boa.env.prank(trader):\n",
    "    pool.add_liquidity([amounts_a, amounts_b], min_mint_amount, receiver)\n",
    "\n",
    "# we check again after adding liquidity\n",
    "print(\"-----------\")\n",
    "get_balances()"
   ]
  },
  {
   "cell_type": "markdown",
   "metadata": {},
   "source": [
    "As we can see, we added 100 token each coin. In exchange we received 100 LP tokens.\n",
    "\n",
    "Now lets add liquidity again, but this time single-sided: 10 coin_a and 100 coin_b."
   ]
  },
  {
   "cell_type": "code",
   "execution_count": 9,
   "metadata": {},
   "outputs": [
    {
     "name": "stdout",
     "output_type": "stream",
     "text": [
      "TRADER BALANCES:\n",
      "coin a: 900.0\n",
      "coin b: 900.0\n",
      "lp tokens: 100.0\n",
      "---------\n",
      "POOL BALANCES:\n",
      "coin a: 100.0\n",
      "coin b: 100.0\n",
      "-----------\n",
      "TRADER BALANCES:\n",
      "coin a: 890.0\n",
      "coin b: 800.0\n",
      "lp tokens: 148.47325226409856\n",
      "---------\n",
      "POOL BALANCES:\n",
      "coin a: 110.0\n",
      "coin b: 200.0\n"
     ]
    }
   ],
   "source": [
    "amounts_a = 10**19  # Pool.coins(0)\n",
    "amounts_b = 10**20  # Pool.coins(1)\n",
    "min_mint_amount = 0\n",
    "receiver = trader\n",
    "\n",
    "# we check the balances before providing liquidity\n",
    "get_balances()\n",
    "\n",
    "with boa.env.prank(trader):\n",
    "    pool.add_liquidity([amounts_a, amounts_b], min_mint_amount, receiver)\n",
    "\n",
    "# we check again after adding liquidity\n",
    "print(\"-----------\")\n",
    "get_balances()"
   ]
  },
  {
   "cell_type": "markdown",
   "metadata": {},
   "source": [
    "---\n",
    "\n",
    "**`calc_token_fee`**\n",
    "\n",
    "This function allows to calculate the fee charged at a certain state of the pool when adding liquidity.\n",
    "\n",
    "`Pool.calc_token_fee(amounts: uint256[N_COINS], xp: uint256[N_COINS]) -> uint256:`\n",
    "\n",
    "| Input            | Type                | Description                                           |\n",
    "| ---------------- | ------------------- | ----------------------------------------------------- |\n",
    "| `amounts`        | `uint256[N_COINS]`  | Amount of each coin to add. `amount_a` is for `Pool.coins(0)`, `amount_b` `Pool.coins(1)`. |\n",
    "| `xp`| `uint256[N_COINS]`               | Pool balances multiplied by the coin precisions. todo: any by `price_scale?`      |\n",
    "\n",
    "\n",
    "Precisions are needed to a precise calculations. If a coin has 18 decimals, its precisions will be 1. For 17 decimals its 10. For 16 decimals its 100. Etc...\n",
    "\n",
    "Minimum fee when adding liquidity is 100000, this occurs when the pool is perfectly balanced and liquidity is added in a balanced portion?"
   ]
  },
  {
   "cell_type": "code",
   "execution_count": 10,
   "metadata": {},
   "outputs": [
    {
     "data": {
      "text/plain": [
       "18487938"
      ]
     },
     "execution_count": 10,
     "metadata": {},
     "output_type": "execute_result"
    }
   ],
   "source": [
    "amounts_a = 10**19\n",
    "amounts_b = 10**20\n",
    "precision_a = 1             # to use the deployed pools variable, do pool.precisions()[0]\n",
    "precision_b = 1             # to use the deployed pools variable, do pool.precisions()[1]\n",
    "pool_balance_a = pool.balances(0)          # to use the deployed pools variable, do pool.balances(0)\n",
    "pool_balance_b = pool.balances(1)          # to use the deployed pools variable, do pool.balances(1)\n",
    "xp_a = pool_balance_a * precision_a\n",
    "xp_b = pool_balance_b * precision_b\n",
    "\n",
    "pool.calc_token_fee([amounts_a, amounts_b], [xp_a, xp_b])"
   ]
  },
  {
   "cell_type": "markdown",
   "metadata": {},
   "source": [
    "One might try to set `pool_balance_a` and/or `pool_balance_b` to 0 to calculate the fee when adding liquidity to an empty pool: This does not work (dividing with 0 is not possible) for the sole reason that when adding liquidity, the fee is calculated based on the pool balances AFTER the tokens have been transfered into the pool.\n",
    "\n",
    "---\n",
    "\n",
    "Lets check the fees. We need to call `remove_liquidity_one_coin` as this function calls the internal `_claim_admin_fees` function. The fees that occur for removing single sided is not being cosidered in the fee claiming, as the fee claiming is the first \"action\" in the function."
   ]
  },
  {
   "cell_type": "code",
   "execution_count": 11,
   "metadata": {},
   "outputs": [
    {
     "name": "stdout",
     "output_type": "stream",
     "text": [
      "0.0\n",
      "0.0\n",
      "0.0498583042932385\n",
      "0.09065146235134273\n"
     ]
    }
   ],
   "source": [
    "print(coin_a.balanceOf(fee_receiver) / 10**18)\n",
    "print(coin_b.balanceOf(fee_receiver) / 10**18)\n",
    "\n",
    "with boa.env.prank(trader):\n",
    "    pool.remove_liquidity_one_coin(10**18, 0, 0, trader)\n",
    "\n",
    "print(coin_a.balanceOf(fee_receiver) / 10**18)\n",
    "print(coin_b.balanceOf(fee_receiver) / 10**18)\n"
   ]
  }
 ],
 "metadata": {
  "kernelspec": {
   "display_name": "venv-notebook",
   "language": "python",
   "name": "python3"
  },
  "language_info": {
   "codemirror_mode": {
    "name": "ipython",
    "version": 3
   },
   "file_extension": ".py",
   "mimetype": "text/x-python",
   "name": "python",
   "nbconvert_exporter": "python",
   "pygments_lexer": "ipython3",
   "version": "3.11.6"
  }
 },
 "nbformat": 4,
 "nbformat_minor": 2
}
