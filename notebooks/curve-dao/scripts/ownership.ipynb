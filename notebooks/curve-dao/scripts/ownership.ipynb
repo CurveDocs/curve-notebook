{
 "cells": [
  {
   "cell_type": "code",
   "execution_count": 1,
   "metadata": {},
   "outputs": [],
   "source": [
    "import boa"
   ]
  },
  {
   "cell_type": "markdown",
   "metadata": {},
   "source": [
    "# **Contract Ownership**\n",
    "\n",
    "Most smart contracts of Curve follow a similar ownership architecture consisting of the following two functions:\n",
    "\n",
    "1. `commit_transfer_ownership`\n",
    "2. `apply_transfer_ownership`\n",
    "\n",
    "The first function sets the `future_admin` variable as the designated future admin, the second one applies the changes."
   ]
  },
  {
   "cell_type": "markdown",
   "metadata": {},
   "source": [
    "To showcase this mechanism, we create and deploy a custom `Ownership.vy` contract which contains all relevant functions and variables."
   ]
  },
  {
   "cell_type": "code",
   "execution_count": 2,
   "metadata": {},
   "outputs": [],
   "source": [
    "admin = boa.env.generate_address()\n",
    "contract = boa.load(\"../contracts/Ownership.vy\", admin)"
   ]
  },
  {
   "cell_type": "markdown",
   "metadata": {},
   "source": [
    "1. `commit_transfer_ownership(_addr: address)`\n",
    "    \n",
    "    Function to commit the transfer ownership. This function can only be called by the current `admin` of the contract. When calling this, the `future_admin` is set to `_addr`. No immediate changes to the `admin` variable here."
   ]
  },
  {
   "cell_type": "code",
   "execution_count": 3,
   "metadata": {},
   "outputs": [
    {
     "name": "stdout",
     "output_type": "stream",
     "text": [
      "Current Admin: 0xd13f0Bd22AFF8176761AEFBfC052a7490bDe268E\n",
      "Future Admin 0x0000000000000000000000000000000000000000\n",
      "--------\n",
      "Commiting transfer ownership\n",
      "--------\n",
      "Current Admin: 0xd13f0Bd22AFF8176761AEFBfC052a7490bDe268E\n",
      "Future Admin 0x7a16fF8270133F063aAb6C9977183D9e72835428\n"
     ]
    }
   ],
   "source": [
    "print(\"Current Admin:\", contract.admin())\n",
    "print(\"Future Admin\", contract.future_admin())\n",
    "\n",
    "\n",
    "print(\"--------\")\n",
    "print(\"Commiting transfer ownership\")\n",
    "print(\"--------\")\n",
    "with boa.env.prank(admin):\n",
    "    contract.commit_transfer_ownership(\"0x7a16fF8270133F063aAb6C9977183D9e72835428\")\n",
    "\n",
    "print(\"Current Admin:\", contract.admin())\n",
    "print(\"Future Admin\", contract.future_admin())"
   ]
  },
  {
   "cell_type": "markdown",
   "metadata": {},
   "source": [
    "As shown above, by calling `commit_transfer_ownership` the `future_admin` was set to the `addr` variable put in the function call.\n",
    "\n",
    "The actual `admin` is not changed yet."
   ]
  },
  {
   "cell_type": "markdown",
   "metadata": {},
   "source": [
    "2. `accept_transfer_ownership()`\n",
    "\n",
    "    Function to accept the ownership changes. This function is only callable by the `future_admin`\n",
    "\n",
    "**OR**\n",
    "\n",
    "2. `apply_transfer_ownership()`\n",
    "\n",
    "    Function to apply the ownership changes. This function is only callable by the `admin`."
   ]
  },
  {
   "cell_type": "code",
   "execution_count": 4,
   "metadata": {},
   "outputs": [
    {
     "name": "stdout",
     "output_type": "stream",
     "text": [
      "Current Admin: 0xd13f0Bd22AFF8176761AEFBfC052a7490bDe268E\n",
      "Future Admin 0x7a16fF8270133F063aAb6C9977183D9e72835428\n",
      "--------\n",
      "Accepting the ownership changes\n",
      "--------\n",
      "Current Admin: 0x7a16fF8270133F063aAb6C9977183D9e72835428\n",
      "Future Admin 0x7a16fF8270133F063aAb6C9977183D9e72835428\n"
     ]
    }
   ],
   "source": [
    "\n",
    "future_admin = contract.future_admin()\n",
    "print(\"Current Admin:\", contract.admin())\n",
    "print(\"Future Admin\", contract.future_admin())\n",
    "\n",
    "print(\"--------\")\n",
    "print(\"Accepting the ownership changes\")\n",
    "print(\"--------\")\n",
    "with boa.env.prank(future_admin):\n",
    "    contract.accept_transfer_ownership()\n",
    "\n",
    "print(\"Current Admin:\", contract.admin())\n",
    "print(\"Future Admin\", contract.future_admin())"
   ]
  },
  {
   "cell_type": "markdown",
   "metadata": {},
   "source": [
    "As shown, calling `accept_transfer_ownership` as the admin/future admin sets the `admin` variable equal to the `future_admin`.\n",
    "\n",
    "If the function is called by a address other than those, the transaction will revert."
   ]
  }
 ],
 "metadata": {
  "kernelspec": {
   "display_name": "boa",
   "language": "python",
   "name": "python3"
  },
  "language_info": {
   "codemirror_mode": {
    "name": "ipython",
    "version": 3
   },
   "file_extension": ".py",
   "mimetype": "text/x-python",
   "name": "python",
   "nbconvert_exporter": "python",
   "pygments_lexer": "ipython3",
   "version": "3.12.2"
  }
 },
 "nbformat": 4,
 "nbformat_minor": 2
}
