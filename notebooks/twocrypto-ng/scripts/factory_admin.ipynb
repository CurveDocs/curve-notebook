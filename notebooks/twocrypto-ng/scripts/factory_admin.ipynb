{
 "cells": [
  {
   "cell_type": "code",
   "execution_count": 1,
   "metadata": {},
   "outputs": [],
   "source": [
    "import boa\n",
    "from utils import deploy_infra"
   ]
  },
  {
   "cell_type": "code",
   "execution_count": 2,
   "metadata": {},
   "outputs": [
    {
     "name": "stderr",
     "output_type": "stream",
     "text": [
      "/Users/mo/Documents/CurveDocs/boa/lib/python3.12/site-packages/vyper/ast/folding.py:153: UserWarning: ZERO_ADDRESS is deprecated. Please use `empty(address)` instead.\n",
      "  warnings.warn(f\"{name} is deprecated. Please use `{replacement}` instead.\")\n",
      "/Users/mo/Documents/CurveDocs/boa/lib/python3.12/site-packages/vyper/semantics/types/subscriptable.py:115: UserWarning: Use of large arrays can be unsafe!\n",
      "  warnings.warn(\"Use of large arrays can be unsafe!\")\n"
     ]
    }
   ],
   "source": [
    "# deploying infra for twocrypto-ng pools\n",
    "infra = deploy_infra()\n",
    "factory = infra[\"factory\"]\n",
    "admin = infra[\"admin\"]\n",
    "coin_a = infra[\"coin_a\"]\n",
    "coin_b = infra[\"coin_b\"]"
   ]
  },
  {
   "cell_type": "markdown",
   "metadata": {},
   "source": [
    "## **Setting New Implementations**\n",
    "\n",
    "New implementations can only be set by the `admin` of the Factory. While there can be multiple implementations for pools, there can only be one for gauge, views, and math implementations.\n",
    "\n",
    "- `set_pool_implementation(_pool_implementation: address, _implementation_index: uint256):`\n",
    "- `set_gauge_implementation(_gauge_implementation: address):`\n",
    "- `set_views_implementation(_views_implementation: address):`\n",
    "- `set_math_implementation(_math_implementation: address):`"
   ]
  },
  {
   "cell_type": "code",
   "execution_count": 3,
   "metadata": {},
   "outputs": [
    {
     "name": "stdout",
     "output_type": "stream",
     "text": [
      "CURRENT IMPLEMENTATIONS\n",
      "pool implementation: 0x3d06E92f20305D9a2D71a1D479E9EE22690Ae7E4\n",
      "gauge implementation: 0x78548820b365886d05009F1127bf553603E5A836\n",
      "views implementation: 0xDa5e407C7b1887E7f76c920B70614e73feA0DDA1\n",
      "math implementation: 0xB822167C7EefF0B53DcfDEE2D8fe73dEDB25505b\n"
     ]
    }
   ],
   "source": [
    "# we check the current implementations (these implementations are generated in utils.py)\n",
    "\n",
    "print(\"CURRENT IMPLEMENTATIONS\")\n",
    "print(\"pool implementation:\", factory.pool_implementations(0))\n",
    "print(\"gauge implementation:\", factory.gauge_implementation())\n",
    "print(\"views implementation:\", factory.views_implementation())\n",
    "print(\"math implementation:\", factory.math_implementation())"
   ]
  },
  {
   "cell_type": "code",
   "execution_count": 4,
   "metadata": {},
   "outputs": [
    {
     "name": "stdout",
     "output_type": "stream",
     "text": [
      "NEW IMPLEMENTATIONS\n",
      "pool implementation: 0x0000000000000000000000000000000000000000\n",
      "gauge implementation: 0x0000000000000000000000000000000000000000\n",
      "views implementation: 0x0000000000000000000000000000000000000000\n",
      "math implementation: 0x0000000000000000000000000000000000000000\n"
     ]
    }
   ],
   "source": [
    "# we set new implementations\n",
    "\n",
    "with boa.env.prank(admin):\n",
    "    factory.set_pool_implementation(\"0x0000000000000000000000000000000000000000\", 0)\n",
    "    factory.set_gauge_implementation(\"0x0000000000000000000000000000000000000000\")\n",
    "    factory.set_views_implementation(\"0x0000000000000000000000000000000000000000\")\n",
    "    factory.set_math_implementation(\"0x0000000000000000000000000000000000000000\")\n",
    "\n",
    "\n",
    "print(\"NEW IMPLEMENTATIONS\")\n",
    "print(\"pool implementation:\", factory.pool_implementations(0))\n",
    "print(\"gauge implementation:\", factory.gauge_implementation())\n",
    "print(\"views implementation:\", factory.views_implementation())\n",
    "print(\"math implementation:\", factory.math_implementation())"
   ]
  },
  {
   "cell_type": "markdown",
   "metadata": {},
   "source": [
    "---\n",
    "\n",
    "## **Changing the Fee Receiver**\n",
    "\n",
    "The `fee_receiver` is the address which receives the admin fee from all deployed pools from this Factory.\n",
    "\n",
    "- `Factory.set_fee_receiver(_fee_receiver: address):`\"\n",
    "\n",
    "    Function to set a new fee receiver address.\n",
    "\n",
    "    Emits: `UpdateFeeReceiver`\n",
    "\n",
    "    | Input              | Type      | Description                  |\n",
    "    | ------------------ | --------- | ---------------------------- |\n",
    "    | `_fee_receiver`    | `uint256` | New fee receiver address     |"
   ]
  },
  {
   "cell_type": "code",
   "execution_count": 5,
   "metadata": {},
   "outputs": [
    {
     "name": "stdout",
     "output_type": "stream",
     "text": [
      "fee receiver before change: 0xA73d7cddCf77c00827459f986bf828999B58C6Fe\n",
      "new fee receiver: 0x0000000000000000000000000000000000000000\n"
     ]
    }
   ],
   "source": [
    "print(\"fee receiver before change:\", factory.fee_receiver())\n",
    "\n",
    "with boa.env.prank(admin):\n",
    "    factory.set_fee_receiver(\"0x0000000000000000000000000000000000000000\")\n",
    "\n",
    "print(\"new fee receiver:\", factory.fee_receiver())"
   ]
  },
  {
   "cell_type": "markdown",
   "metadata": {},
   "source": [
    "---\n",
    "\n",
    "## **Changing Contract Ownership**\n",
    "\n",
    "\n",
    "- ### `Factory.commit_transfer_ownership(_addr: address):`\n",
    "\n",
    "    Function to commit the transfer of ownership. The function sets `future_admin` to the input address `_addr`.\n",
    "\n",
    "    | Input      | Type      | Description   |\n",
    "    | ---------- | --------- | ------------- |\n",
    "    | `_addr`    | `address` | New admin address |"
   ]
  },
  {
   "cell_type": "markdown",
   "metadata": {},
   "source": [
    "- ### `Factory.accept_transfer_ownership():`\n",
    "\n",
    "    Function to accept the ownership transfer by the future admin.\n",
    "\n",
    "    Emits: `TransferOwnership`"
   ]
  },
  {
   "cell_type": "markdown",
   "metadata": {},
   "source": [
    "*Ownership can be changed with the following flow:*\n",
    "\n",
    "1. `commit_transfer_ownership`: This call sets the `future_admin` to the input value used in the function. This function can only be called by the current `admin`.\n",
    "2. `accept_transfer_ownership`: After the `future_admin` is set, these changes need to be accepted by the future admin. After the changes are accepted, the `future_admin` is not reset to `ZERO_ADDRESS`, but rather stays like this until it's changed again."
   ]
  },
  {
   "cell_type": "code",
   "execution_count": 6,
   "metadata": {},
   "outputs": [
    {
     "name": "stdout",
     "output_type": "stream",
     "text": [
      "BEFORE ANY CHANGES\n",
      "current admin: 0xd13f0Bd22AFF8176761AEFBfC052a7490bDe268E\n",
      "current future_admin: 0x0000000000000000000000000000000000000000\n",
      "-----------------\n",
      "AFTER COMMITING/BEFORE ACCEPTING\n",
      "current admin: 0xd13f0Bd22AFF8176761AEFBfC052a7490bDe268E\n",
      "current future_admin: 0x40907540d8a6C65c637785e8f8B742ae6b0b9968\n",
      "-----------------\n",
      "AFTER ACCEPTING THE CHANGES\n",
      "current admin: 0x40907540d8a6C65c637785e8f8B742ae6b0b9968\n",
      "current future_admin: 0x40907540d8a6C65c637785e8f8B742ae6b0b9968\n"
     ]
    }
   ],
   "source": [
    "new_admin = \"0x40907540d8a6C65c637785e8f8B742ae6b0b9968\"\n",
    "\n",
    "print(\"BEFORE ANY CHANGES\")\n",
    "print(\"current admin:\", factory.admin())\n",
    "print(\"current future_admin:\", factory.future_admin())\n",
    "print(\"-----------------\")\n",
    "\n",
    "# admin commits changes\n",
    "with boa.env.prank(admin):\n",
    "    factory.commit_transfer_ownership(new_admin)\n",
    "\n",
    "print(\"AFTER COMMITING/BEFORE ACCEPTING THE CHANGES\")\n",
    "print(\"current admin:\", factory.admin())\n",
    "print(\"current future_admin:\", factory.future_admin())\n",
    "print(\"-----------------\")\n",
    "\n",
    "# future_admin accepts changes\n",
    "with boa.env.prank(new_admin):\n",
    "    factory.accept_transfer_ownership()\n",
    "\n",
    "print(\"AFTER ACCEPTING THE CHANGES\")\n",
    "print(\"current admin:\", factory.admin())\n",
    "print(\"current future_admin:\", factory.future_admin())\n"
   ]
  }
 ],
 "metadata": {
  "kernelspec": {
   "display_name": "boa",
   "language": "python",
   "name": "python3"
  },
  "language_info": {
   "codemirror_mode": {
    "name": "ipython",
    "version": 3
   },
   "file_extension": ".py",
   "mimetype": "text/x-python",
   "name": "python",
   "nbconvert_exporter": "python",
   "pygments_lexer": "ipython3",
   "version": "3.12.1"
  }
 },
 "nbformat": 4,
 "nbformat_minor": 2
}
