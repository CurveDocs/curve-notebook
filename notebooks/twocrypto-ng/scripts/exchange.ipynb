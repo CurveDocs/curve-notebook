{
 "cells": [
  {
   "cell_type": "code",
   "execution_count": 1,
   "metadata": {},
   "outputs": [],
   "source": [
    "import boa \n",
    "from utils import deploy_infra, deploy_pool, get_balances\n",
    "from IPython.display import display, HTML"
   ]
  },
  {
   "cell_type": "markdown",
   "metadata": {},
   "source": [
    "## **Table of Content**\n",
    "\n",
    "1. [Infrastrucutre and Pool Setup](#infrastrucutre-and-pool-setup)\n",
    "2. [Exchanging Tokens](#exchanging-tokens)\n",
    "3. [get_dy](#get_dyi-uint256-j-uint256-dx-uint256---uint256)\n",
    "4. [get_dx](#get_dxi-uint256-j-uint256-dy-uint256---uint256)\n",
    "5. [fee_calc](#5-fee_calc)"
   ]
  },
  {
   "cell_type": "markdown",
   "metadata": {},
   "source": [
    "### **1. Infrastrucutre and Pool Setup**\n",
    "\n",
    "Before we can exchange tokens, we need to deploy the twocrypto-ng infrastructure and deploy a pool. Afterwards, we grant approval to the pool and add some initial liquidity."
   ]
  },
  {
   "cell_type": "code",
   "execution_count": 2,
   "metadata": {},
   "outputs": [
    {
     "name": "stderr",
     "output_type": "stream",
     "text": [
      "/Users/mo/Documents/CurveDocs/boa/lib/python3.12/site-packages/vyper/ast/folding.py:153: UserWarning: ZERO_ADDRESS is deprecated. Please use `empty(address)` instead.\n",
      "  warnings.warn(f\"{name} is deprecated. Please use `{replacement}` instead.\")\n",
      "/Users/mo/Documents/CurveDocs/boa/lib/python3.12/site-packages/vyper/semantics/types/subscriptable.py:115: UserWarning: Use of large arrays can be unsafe!\n",
      "  warnings.warn(\"Use of large arrays can be unsafe!\")\n"
     ]
    }
   ],
   "source": [
    "# deploying infra for twocrypto-ng pools\n",
    "infra = deploy_infra()\n",
    "factory = infra[\"factory\"]\n",
    "trader = infra[\"trader\"]\n",
    "coin_a = infra[\"coin_a\"]\n",
    "coin_b = infra[\"coin_b\"]\n",
    "fee_receiver = infra[\"fee_receiver\"]\n",
    "\n",
    "# deploy pool\n",
    "pool = deploy_pool(factory, coin_a, coin_b)\n",
    "pool = infra[\"impl\"].at(pool)"
   ]
  },
  {
   "cell_type": "markdown",
   "metadata": {},
   "source": [
    "Before we can exchange tokens, we need to give the contract approval and add some initial liquidity."
   ]
  },
  {
   "cell_type": "code",
   "execution_count": 3,
   "metadata": {},
   "outputs": [
    {
     "name": "stdout",
     "output_type": "stream",
     "text": [
      "Pool Balance CoinA: 1000.0\n",
      "Pool Balance CoinB: 1000.0\n"
     ]
    }
   ],
   "source": [
    "# grant max approval and add some initial liquidity\n",
    "\n",
    "with boa.env.prank(trader):\n",
    "    for coin in [coin_a, coin_b]:\n",
    "        coin.approve(pool, 2**256-1)\n",
    "\n",
    "with boa.env.prank(trader):\n",
    "    pool.add_liquidity([10**21, 10**21], 0)\n",
    "\n",
    "print(\"Pool Balance CoinA:\", pool.balances(0) / 1e18)\n",
    "print(\"Pool Balance CoinB:\", pool.balances(1) / 1e18)"
   ]
  },
  {
   "cell_type": "markdown",
   "metadata": {},
   "source": [
    "### **2. Exchanging Tokens**\n",
    "\n",
    "- #### `exchange(i: uint256, j: uint256, dx: uint256, min_dy: uint256, receiver: address = msg.sender) -> uint256:`\n",
    "\n",
    "    Function to exchange `dx` amount of coin `i` for coin `j` and receive a minimum amount of `min_dy`. Charged fee at current states is `Pool.fee()` and is taken in token `j`.\n",
    "\n",
    "    Returns: Amount of tokens at index `j` received (`uint256`).\n",
    "\n",
    "    Emits: `TokenExchange`\n",
    "\n",
    "    | Input       | Type      | Description                                                |\n",
    "    | ----------- | --------- | ---------------------------------------------------------- |\n",
    "    | `i`         | `uint256` | Index value for the input coin.                            |\n",
    "    | `j`         | `uint256` | Index value for the output coin.                           |\n",
    "    | `dx`        | `uint256` | Amount of input coin being swapped in.                     |\n",
    "    | `min_dy`    | `uint256` | Minimum amount of output coin to receive.                  |\n",
    "    | `receiver`  | `address` | Address to send output coin to. Defaults to `msg.sender`.  |\n",
    "\n",
    "Index values of the coins can be fetched by `Pool.coins(n)`.\n",
    "\n",
    "NOTE: `min_dy` should not be set to zero. This will allow MEV Bots to frontrun your transactions, resulting in receiving much less tokens than you should.\n"
   ]
  },
  {
   "cell_type": "code",
   "execution_count": 5,
   "metadata": {},
   "outputs": [
    {
     "name": "stdout",
     "output_type": "stream",
     "text": [
      "trader balance a: -10.0\n",
      "trader balance b: 9.956824290884265\n",
      "pool balance a: 10.0\n",
      "pool balance b: -9.956824290884265\n"
     ]
    }
   ],
   "source": [
    "i = 0\n",
    "j = 1\n",
    "dx = 10**19\n",
    "min_dy = 0\n",
    "receiver = trader\n",
    "\n",
    "before_trader_bal_a = coin_a.balanceOf(trader)\n",
    "before_trader_bal_b = coin_b.balanceOf(trader)\n",
    "before_pool_bal_a = pool.balances(0)\n",
    "before_pool_bal_b = pool.balances(1)\n",
    "\n",
    "# now we are exchanging 10 (10^19) coin_a for coin_b.\n",
    "with boa.env.prank(trader):\n",
    "    pool.exchange(i, j, dx, min_dy, receiver)\n",
    "\n",
    "\n",
    "after_trader_bal_a = coin_a.balanceOf(trader)\n",
    "after_trader_bal_b = coin_b.balanceOf(trader)\n",
    "after_pool_bal_a = pool.balances(0)\n",
    "after_pool_bal_b = pool.balances(1)\n",
    "\n",
    "print(f\"trader balance a: {(after_trader_bal_a - before_trader_bal_a) / 1e18}\\n\"\n",
    "      f\"trader balance b: {(after_trader_bal_b - before_trader_bal_b) / 1e18}\\n\"\n",
    "      f\"pool balance a: {(after_pool_bal_a - before_pool_bal_a) / 1e18}\\n\"\n",
    "      f\"pool balance b: {(after_pool_bal_b - before_pool_bal_b) / 1e18}\")"
   ]
  },
  {
   "cell_type": "markdown",
   "metadata": {},
   "source": [
    "As we can see, the pool now has 10 (10^19) additional coins of a while the trader has the same amount less. When exchanging, the tokens are transfered into the pool. \n",
    "\n",
    "On the contrary, the pool balance of coin b as decreased the same amount the traders balance of coin b increased."
   ]
  },
  {
   "cell_type": "markdown",
   "metadata": {},
   "source": [
    "### **3. `get_dy`**\n",
    "\n",
    "- #### `get_dy(i: uint256, j: uint256, dx: uint256) -> uint256:`\n",
    "\n",
    "    Getter for the received amount of coin `j` for swapping in `dx` amount of coin `i`. This method includes fees.\n",
    "\n",
    "    Returns: Exact amount of output `j` tokens (`uint256`).\n",
    "\n",
    "    | Input | Type      | Description               |\n",
    "    | ----- | --------- | ------------------------- |\n",
    "    | `i`   | `uint256` | Index of input token.     |\n",
    "    | `j`   | `uint256` | Index of output token.    |\n",
    "    | `dx`  | `uint256` | Amount of input tokens.   |"
   ]
  },
  {
   "cell_type": "code",
   "execution_count": 6,
   "metadata": {},
   "outputs": [
    {
     "data": {
      "text/plain": [
       "9855125262825180481"
      ]
     },
     "execution_count": 6,
     "metadata": {},
     "output_type": "execute_result"
    }
   ],
   "source": [
    "# how many tokens `j` do we receive when swapping in 10**19 of token `j`?\n",
    "i = 0\n",
    "j = 1\n",
    "dx = 10**19\n",
    "\n",
    "pool.get_dy(i, j, dx)"
   ]
  },
  {
   "cell_type": "markdown",
   "metadata": {},
   "source": [
    "### **4. `get_dx`**\n",
    "\n",
    "- #### `get_dx(i: uint256, j: uint256, dy: uint256) -> uint256:`\n",
    "\n",
    "    Getter for the required amount of coin `i` to input for swapping out `dy` amount of token `j`.\n",
    "\n",
    "    Returns: Amount of coins received (`uint256`).\n",
    "\n",
    "    | Input | Type      | Description               |\n",
    "    | ----- | --------- | ------------------------- |\n",
    "    | `i`   | `uint256` | Index of input token.     |\n",
    "    | `j`   | `uint256` | Index of output token.    |\n",
    "    | `dy`  | `uint256` | Amount of output tokens.  |"
   ]
  },
  {
   "cell_type": "code",
   "execution_count": 7,
   "metadata": {},
   "outputs": [
    {
     "data": {
      "text/plain": [
       "10148424258456324461"
      ]
     },
     "execution_count": 7,
     "metadata": {},
     "output_type": "execute_result"
    }
   ],
   "source": [
    "# how many tokens `i` do we need to put in to receive 10**19 of token `j`?\n",
    "i = 0\n",
    "j = 1\n",
    "dy = 10**19\n",
    "\n",
    "pool.get_dx(i, j, dy)"
   ]
  },
  {
   "cell_type": "markdown",
   "metadata": {},
   "source": [
    "### **5. `fee_calc`**\n",
    "\n",
    "- #### `fee_calc(xp: uint256[N_COINS]) -> uint256:`\n",
    "\n",
    "    Getter for the charged exchange fee by the pool at the current state.\n",
    "\n",
    "    Returns: Fee value (`uint256`).\n",
    "\n",
    "    | Input | Type               | Description                                      |\n",
    "    | ----- | ------------------ | ------------------------------------------------ |\n",
    "    | `xp`  | `uint256[N_COINS]` | Pool balances multiplied by the coin precisions. |"
   ]
  },
  {
   "cell_type": "code",
   "execution_count": 21,
   "metadata": {},
   "outputs": [
    {
     "data": {
      "text/plain": [
       "(31740073, 31740073)"
      ]
     },
     "execution_count": 21,
     "metadata": {},
     "output_type": "execute_result"
    }
   ],
   "source": [
    "# get pool balances\n",
    "balance_coinA = pool.balances(0)\n",
    "balance_coinB = pool.balances(1)\n",
    "\n",
    "# get coin precisions\n",
    "precision_coinA = pool.precisions()[0]\n",
    "precision_coinB = pool.precisions()[1]\n",
    "\n",
    "# calculate xp\n",
    "xp_a = balance_coinA * precision_coinA\n",
    "xp_b = balance_coinB * precision_coinB\n",
    "\n",
    "# calculate fee at current state\n",
    "fee = pool.fee()\n",
    "calc_fee = pool.fee_calc([xp_a, xp_b])\n",
    "\n",
    "calc_fee, fee"
   ]
  },
  {
   "cell_type": "markdown",
   "metadata": {},
   "source": [
    "Precision of the fee is `10^10`. \n",
    "\n",
    "31740073 = 0.0031740073 = 0.31740073%.\n",
    "\n",
    "`fee_calc(xp)` at the current pool state returns the same value as `fee()`.\n",
    "\n",
    "---\n",
    "\n",
    "*Quick crash course on cryptoswap fee values:*\n",
    "\n",
    "1. `mid_fee`: Fee when the pool is perfectly balanced (lowest possible fee).\n",
    "2. `out_fee`: Fee when the pool is completely imbalanced (highest possible fee).\n",
    "3. `fee_gamma`: Parameter which determines the speed at which the fee increases when the pool becomes imbalanced.\n"
   ]
  },
  {
   "cell_type": "code",
   "execution_count": 22,
   "metadata": {},
   "outputs": [
    {
     "data": {
      "text/plain": [
       "(26000000, 45000000, 230000000000000)"
      ]
     },
     "execution_count": 22,
     "metadata": {},
     "output_type": "execute_result"
    }
   ],
   "source": [
    "mid_fee = pool.mid_fee()\n",
    "out_fee = pool.out_fee()\n",
    "fee_gamma = pool.fee_gamma()\n",
    "\n",
    "mid_fee, out_fee, fee_gamma"
   ]
  }
 ],
 "metadata": {
  "kernelspec": {
   "display_name": "venv",
   "language": "python",
   "name": "python3"
  },
  "language_info": {
   "codemirror_mode": {
    "name": "ipython",
    "version": 3
   },
   "file_extension": ".py",
   "mimetype": "text/x-python",
   "name": "python",
   "nbconvert_exporter": "python",
   "pygments_lexer": "ipython3",
   "version": "3.12.1"
  }
 },
 "nbformat": 4,
 "nbformat_minor": 2
}
