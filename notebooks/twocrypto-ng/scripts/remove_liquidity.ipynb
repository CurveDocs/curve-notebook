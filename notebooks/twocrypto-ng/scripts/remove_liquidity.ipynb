{
 "cells": [
  {
   "cell_type": "code",
   "execution_count": 1,
   "metadata": {},
   "outputs": [],
   "source": [
    "import boa\n",
    "from utils import deploy_infra, deploy_pool, get_balances\n",
    "from IPython.display import display, HTML"
   ]
  },
  {
   "cell_type": "markdown",
   "metadata": {},
   "source": [
    "## **Table of Content**\n",
    "\n",
    "1. [Infrastrucutre and Pool Setup](#infrastrucutre-and-pool-setup)\n",
    "2. [Calculate LP Tokens When using `remove_liquidity`](#2-calculate-lp-token-amount)\n",
    "3. [Remove Liquidity](#2-remove-liquidity-balanced)\n",
    "4. [Calculate tokens using `remove_liquidity_one_coin`](#4-calculate-withdraw-one-coin)\n",
    "5. [Remove Liquidity Single-Sided](#3-remove-liquidity-single-sided)"
   ]
  },
  {
   "cell_type": "markdown",
   "metadata": {},
   "source": [
    "### **1. Infrastrucutre and Pool Setup**\n",
    "\n",
    "Before we can exchange tokens, we need to deploy the twocrypto-ng infrastructure and deploy a pool. Afterwards, we grant approval to the pool and add some initial liquidity."
   ]
  },
  {
   "cell_type": "code",
   "execution_count": 2,
   "metadata": {},
   "outputs": [
    {
     "name": "stderr",
     "output_type": "stream",
     "text": [
      "/Users/mo/Documents/CurveDocs/boa/lib/python3.12/site-packages/vyper/ast/folding.py:153: UserWarning: ZERO_ADDRESS is deprecated. Please use `empty(address)` instead.\n",
      "  warnings.warn(f\"{name} is deprecated. Please use `{replacement}` instead.\")\n",
      "/Users/mo/Documents/CurveDocs/boa/lib/python3.12/site-packages/vyper/semantics/types/subscriptable.py:115: UserWarning: Use of large arrays can be unsafe!\n",
      "  warnings.warn(\"Use of large arrays can be unsafe!\")\n"
     ]
    },
    {
     "data": {
      "text/plain": [
       "<../contracts/main/CurveTwocryptoOptimized.vy at 0x5Bac22268eecccDF2fa09D03eC0D0fDbA2848ba2, compiled with vyper-0.3.10+9136169>\n",
       "<storage: cached_price_scale=1000000000000000000, cached_price_oracle=1000000000000000000, cached_xcp_oracle=0, last_prices=1000000000000000000, last_timestamp=580937928559420126894148428052308409693426034781, last_xcp=0, xcp_ma_time=62324, initial_A_gamma=136112946768375385385349842972852284582400000, initial_A_gamma_time=0, future_A_gamma=136112946768375385385349842972852284582400000, future_A_gamma_time=0, balances=[0, 0], D=0, xcp_profit=0, xcp_profit_a=1000000000000000000, virtual_price=0, packed_rebalancing_params=680564733841876929619973849625130958848000000000865, packed_fee_params=8847341539944400050877843276543133320576000000, last_admin_fee_claim_timestamp=0, admin_lp_virtual_balance=0, balanceOf={}, allowance={}, totalSupply=0, nonces={}>"
      ]
     },
     "execution_count": 2,
     "metadata": {},
     "output_type": "execute_result"
    }
   ],
   "source": [
    "# deploying infra for twocrypto-ng pools\n",
    "infra = deploy_infra()\n",
    "factory = infra[\"factory\"]\n",
    "trader = infra[\"trader\"]\n",
    "coin_a = infra[\"coin_a\"]\n",
    "coin_b = infra[\"coin_b\"]\n",
    "fee_receiver = infra[\"fee_receiver\"]\n",
    "\n",
    "# deploy pool\n",
    "pool = deploy_pool(factory, coin_a, coin_b)\n",
    "pool = infra[\"impl\"].at(pool)\n",
    "pool"
   ]
  },
  {
   "cell_type": "code",
   "execution_count": 3,
   "metadata": {},
   "outputs": [
    {
     "name": "stdout",
     "output_type": "stream",
     "text": [
      "Pool Balance CoinA: 1000.0\n",
      "Pool Balance CoinB: 1000.0\n"
     ]
    }
   ],
   "source": [
    "# grant max approval and add some initial liquidity\n",
    "\n",
    "with boa.env.prank(trader):\n",
    "    for coin in [coin_a, coin_b]:\n",
    "        coin.approve(pool, 2**256-1)\n",
    "\n",
    "with boa.env.prank(trader):\n",
    "    pool.add_liquidity([10**21, 10**21], 0)\n",
    "\n",
    "print(\"Pool Balance CoinA:\", pool.balances(0) / 1e18)\n",
    "print(\"Pool Balance CoinB:\", pool.balances(1) / 1e18)"
   ]
  },
  {
   "cell_type": "markdown",
   "metadata": {},
   "source": [
    "### **2. Calculate LP Token Amount**\n",
    "\n",
    "- #### `calc_token_amount(amounts: uint256[N_COINS], deposit: bool) -> uint256:`\n",
    "\n",
    "    Function to calculate the LP tokens to be minted or burned for depositing or removing `amounts` of coins. This method takes fees into consideration.\n",
    "\n",
    "    Returns: Amount of LP tokens deposited or withdrawn (`uint256`).\n",
    "\n",
    "    | Input      | Type               | Description                                     |\n",
    "    | ---------- | ------------------ | ----------------------------------------------- |\n",
    "    | `amounts`  | `uint256[N_COINS]` | Amounts of tokens being deposited or withdrawn. |\n",
    "    | `deposit`  | `bool`             | `true` for deposit, `false` for withdrawal.     |"
   ]
  },
  {
   "cell_type": "code",
   "execution_count": 4,
   "metadata": {},
   "outputs": [
    {
     "data": {
      "text/plain": [
       "99998999999999999999"
      ]
     },
     "execution_count": 4,
     "metadata": {},
     "output_type": "execute_result"
    }
   ],
   "source": [
    "pool.calc_token_amount([10**20, 10**20], False)"
   ]
  },
  {
   "cell_type": "markdown",
   "metadata": {},
   "source": [
    "### **3. Remove Liquidity**\n",
    "\n",
    "- #### `remove_liquidity(_amount: uint256, min_amounts: uint256[N_COINS], receiver: address = msg.sender) -> uint256[N_COINS]:`\n",
    "\n",
    "    Function to remove liquidity from the pool and burn `_amount` of LP tokens. When removing liquidity with this function, no fees are charged as the coins are **withdrawn in balanced proportions**. This function also updates the `xcp_oracle` since liquidity was removed.\n",
    "\n",
    "    Returns: Withdrawn balances (`uint256[N_COINS]`).\n",
    "\n",
    "    Emits: `RemoveLiquidity`\n",
    "\n",
    "    | Input         | Type                | Description                                      |\n",
    "    | ------------- | ------------------- | ------------------------------------------------ |\n",
    "    | `_amount`     | `uint256`           | Amount of LP tokens to burn.                     |\n",
    "    | `min_amounts` | `uint256[N_COINS]`  | Minimum amounts of tokens to withdraw.           |\n",
    "    | `receiver`    | `address`           | Receiver of the coins; defaults to `msg.sender`. |"
   ]
  },
  {
   "cell_type": "code",
   "execution_count": 5,
   "metadata": {},
   "outputs": [
    {
     "data": {
      "text/html": [
       "<table border=\"1\" class=\"dataframe\">\n",
       "  <thead>\n",
       "    <tr style=\"text-align: right;\">\n",
       "      <th>Asset</th>\n",
       "      <th>Balance</th>\n",
       "    </tr>\n",
       "  </thead>\n",
       "  <tbody>\n",
       "    <tr>\n",
       "      <td>Trader: Balance A</td>\n",
       "      <td>99000.0</td>\n",
       "    </tr>\n",
       "    <tr>\n",
       "      <td>Trader: Balance B</td>\n",
       "      <td>99000.0</td>\n",
       "    </tr>\n",
       "    <tr>\n",
       "      <td>Trader: LP Tokens</td>\n",
       "      <td>1000.0</td>\n",
       "    </tr>\n",
       "    <tr>\n",
       "      <td>Pool: Balance A</td>\n",
       "      <td>1000.0</td>\n",
       "    </tr>\n",
       "    <tr>\n",
       "      <td>Pool: Balance B</td>\n",
       "      <td>1000.0</td>\n",
       "    </tr>\n",
       "  </tbody>\n",
       "</table>"
      ],
      "text/plain": [
       "<IPython.core.display.HTML object>"
      ]
     },
     "metadata": {},
     "output_type": "display_data"
    },
    {
     "data": {
      "text/html": [
       "<table border=\"1\" class=\"dataframe\">\n",
       "  <thead>\n",
       "    <tr style=\"text-align: right;\">\n",
       "      <th>Asset</th>\n",
       "      <th>Balance</th>\n",
       "    </tr>\n",
       "  </thead>\n",
       "  <tbody>\n",
       "    <tr>\n",
       "      <td>Trader: Balance A</td>\n",
       "      <td>99100.0</td>\n",
       "    </tr>\n",
       "    <tr>\n",
       "      <td>Trader: Balance B</td>\n",
       "      <td>99100.0</td>\n",
       "    </tr>\n",
       "    <tr>\n",
       "      <td>Trader: LP Tokens</td>\n",
       "      <td>900.0</td>\n",
       "    </tr>\n",
       "    <tr>\n",
       "      <td>Pool: Balance A</td>\n",
       "      <td>900.0</td>\n",
       "    </tr>\n",
       "    <tr>\n",
       "      <td>Pool: Balance B</td>\n",
       "      <td>900.0</td>\n",
       "    </tr>\n",
       "  </tbody>\n",
       "</table>"
      ],
      "text/plain": [
       "<IPython.core.display.HTML object>"
      ]
     },
     "metadata": {},
     "output_type": "display_data"
    }
   ],
   "source": [
    "display(HTML(get_balances(trader, pool, coin_a, coin_b).to_html(index=False)))\n",
    "\n",
    "with boa.env.prank(trader):\n",
    "    pool.remove_liquidity(10**20, [0, 0], trader)\n",
    "\n",
    "display(HTML(get_balances(trader, pool, coin_a, coin_b).to_html(index=False)))"
   ]
  },
  {
   "cell_type": "markdown",
   "metadata": {},
   "source": [
    "As seen, `trader` withdrew 100 LP tokens in a balanced proportion and received 100 coinA and 100 coinB."
   ]
  },
  {
   "cell_type": "markdown",
   "metadata": {},
   "source": [
    "### **4. Calculate Withdraw One Coin**\n",
    "\n",
    "- #### `calc_withdraw_one_coin(token_amount: uint256, i: uint256) -> uint256:`\n",
    "\n",
    "    Function to calculate the amount of output token `i` when burning `token_amount` of LP tokens. This method takes fees into consideration.\n",
    "\n",
    "    Returns: Amount of tokens received (`uint256`).\n",
    "\n",
    "    | Input         | Type      | Description                              |\n",
    "    | ------------- | --------- | ---------------------------------------- |\n",
    "    | `token_amount`| `uint256` | Amount of LP tokens burned.              |\n",
    "    | `i`           | `uint256` | Index of the coin to withdraw.           |"
   ]
  },
  {
   "cell_type": "code",
   "execution_count": 6,
   "metadata": {},
   "outputs": [
    {
     "data": {
      "text/plain": [
       "189.65554321474175"
      ]
     },
     "execution_count": 6,
     "metadata": {},
     "output_type": "execute_result"
    }
   ],
   "source": [
    "pool.calc_withdraw_one_coin(10**20, 0) / 1e18"
   ]
  },
  {
   "cell_type": "markdown",
   "metadata": {},
   "source": [
    "### **5. Remove Liquidity Single-Sided** \n",
    "\n",
    "- #### `remove_liquidity_one_coin(token_amount: uint256, i: uint256, min_amount: uint256, receiver: address = msg.sender) -> uint256:`\n",
    "\n",
    "    Function to burn `token_amount` LP tokens and withdraw liquidity in a single token `i`.\n",
    "\n",
    "    Returns: Amount of coins withdrawn (`uint256`).\n",
    "\n",
    "    Emits: `RemoveLiquidityOne`\n",
    "\n",
    "    | Input          | Type      | Description                                      |\n",
    "    | -------------- | --------- | ------------------------------------------------ |\n",
    "    | `token_amount` | `uint256` | Amount of LP tokens to burn.                     |\n",
    "    | `i`            | `uint256` | Index of the token to withdraw.                  |\n",
    "    | `min_amount`   | `uint256` | Minimum amount of token to withdraw.             |\n",
    "    | `receiver`     | `address` | Receiver of the coins; defaults to `msg.sender`. |"
   ]
  },
  {
   "cell_type": "code",
   "execution_count": 7,
   "metadata": {},
   "outputs": [
    {
     "data": {
      "text/html": [
       "<table border=\"1\" class=\"dataframe\">\n",
       "  <thead>\n",
       "    <tr style=\"text-align: right;\">\n",
       "      <th>Asset</th>\n",
       "      <th>Balance</th>\n",
       "    </tr>\n",
       "  </thead>\n",
       "  <tbody>\n",
       "    <tr>\n",
       "      <td>Trader: Balance A</td>\n",
       "      <td>99100.0</td>\n",
       "    </tr>\n",
       "    <tr>\n",
       "      <td>Trader: Balance B</td>\n",
       "      <td>99100.0</td>\n",
       "    </tr>\n",
       "    <tr>\n",
       "      <td>Trader: LP Tokens</td>\n",
       "      <td>900.0</td>\n",
       "    </tr>\n",
       "    <tr>\n",
       "      <td>Pool: Balance A</td>\n",
       "      <td>900.0</td>\n",
       "    </tr>\n",
       "    <tr>\n",
       "      <td>Pool: Balance B</td>\n",
       "      <td>900.0</td>\n",
       "    </tr>\n",
       "  </tbody>\n",
       "</table>"
      ],
      "text/plain": [
       "<IPython.core.display.HTML object>"
      ]
     },
     "metadata": {},
     "output_type": "display_data"
    },
    {
     "data": {
      "text/html": [
       "<table border=\"1\" class=\"dataframe\">\n",
       "  <thead>\n",
       "    <tr style=\"text-align: right;\">\n",
       "      <th>Asset</th>\n",
       "      <th>Balance</th>\n",
       "    </tr>\n",
       "  </thead>\n",
       "  <tbody>\n",
       "    <tr>\n",
       "      <td>Trader: Balance A</td>\n",
       "      <td>99289.655543</td>\n",
       "    </tr>\n",
       "    <tr>\n",
       "      <td>Trader: Balance B</td>\n",
       "      <td>99100.000000</td>\n",
       "    </tr>\n",
       "    <tr>\n",
       "      <td>Trader: LP Tokens</td>\n",
       "      <td>800.000000</td>\n",
       "    </tr>\n",
       "    <tr>\n",
       "      <td>Pool: Balance A</td>\n",
       "      <td>710.344457</td>\n",
       "    </tr>\n",
       "    <tr>\n",
       "      <td>Pool: Balance B</td>\n",
       "      <td>900.000000</td>\n",
       "    </tr>\n",
       "  </tbody>\n",
       "</table>"
      ],
      "text/plain": [
       "<IPython.core.display.HTML object>"
      ]
     },
     "metadata": {},
     "output_type": "display_data"
    }
   ],
   "source": [
    "display(HTML(get_balances(trader, pool, coin_a, coin_b).to_html(index=False)))\n",
    "\n",
    "with boa.env.prank(trader):\n",
    "    pool.remove_liquidity_one_coin(10**20, 0, 0, trader)\n",
    "\n",
    "display(HTML(get_balances(trader, pool, coin_a, coin_b).to_html(index=False)))"
   ]
  }
 ],
 "metadata": {
  "kernelspec": {
   "display_name": "venv-notebook",
   "language": "python",
   "name": "python3"
  },
  "language_info": {
   "codemirror_mode": {
    "name": "ipython",
    "version": 3
   },
   "file_extension": ".py",
   "mimetype": "text/x-python",
   "name": "python",
   "nbconvert_exporter": "python",
   "pygments_lexer": "ipython3",
   "version": "3.12.1"
  }
 },
 "nbformat": 4,
 "nbformat_minor": 2
}
