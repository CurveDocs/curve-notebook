{
 "cells": [
  {
   "cell_type": "code",
   "execution_count": 1,
   "metadata": {},
   "outputs": [],
   "source": [
    "import boa\n",
    "from utils import deploy_pool, deploy_infra, get_balances\n",
    "from IPython.display import display, HTML"
   ]
  },
  {
   "cell_type": "markdown",
   "metadata": {},
   "source": [
    "## **Table of Content**\n",
    "\n",
    "1. [Infrastrucutre and Pool Setup](#infrastrucutre-and-pool-setup)\n",
    "2. [Adding Liquidity](#exchanging-tokens)\n",
    "3. [Calculating LP Tokens](#3-calculating-lp-token-amount)\n",
    "4. [Calculating Fee](#4-calculate-fee-whenn-adding-liquidity)"
   ]
  },
  {
   "cell_type": "markdown",
   "metadata": {},
   "source": [
    "### **1. Infrastrucutre and Pool Setup**\n",
    "\n",
    "Before we can exchange tokens, we need to deploy the twocrypto-ng infrastructure and deploy a pool. Afterwards, we grant approval to the pool."
   ]
  },
  {
   "cell_type": "code",
   "execution_count": 2,
   "metadata": {},
   "outputs": [
    {
     "name": "stderr",
     "output_type": "stream",
     "text": [
      "/Users/mo/Documents/CurveDocs/boa/lib/python3.12/site-packages/vyper/ast/folding.py:153: UserWarning: ZERO_ADDRESS is deprecated. Please use `empty(address)` instead.\n",
      "  warnings.warn(f\"{name} is deprecated. Please use `{replacement}` instead.\")\n",
      "/Users/mo/Documents/CurveDocs/boa/lib/python3.12/site-packages/vyper/semantics/types/subscriptable.py:115: UserWarning: Use of large arrays can be unsafe!\n",
      "  warnings.warn(\"Use of large arrays can be unsafe!\")\n"
     ]
    }
   ],
   "source": [
    "# deploying the infrastructure for twocrypto-ng pools\n",
    "\n",
    "infra = deploy_infra()\n",
    "factory = infra[\"factory\"]\n",
    "trader = infra[\"trader\"]\n",
    "coin_a = infra[\"coin_a\"]\n",
    "coin_b = infra[\"coin_b\"]\n",
    "fee_receiver = infra[\"fee_receiver\"]\n",
    "\n",
    "# lets deploy a pool \n",
    "pool = deploy_pool(factory, coin_a, coin_b)\n",
    "pool = infra[\"impl\"].at(pool)"
   ]
  },
  {
   "cell_type": "code",
   "execution_count": 3,
   "metadata": {},
   "outputs": [
    {
     "name": "stdout",
     "output_type": "stream",
     "text": [
      "{'0x1fb0aF040B7bbA2A6f69e77DA9C0dCb7785b3A3B': {'0x5Bac22268eecccDF2fa09D03eC0D0fDbA2848ba2': 115792089237316195423570985008687907853269984665640564039457584007913129639935}}\n",
      "{'0x1fb0aF040B7bbA2A6f69e77DA9C0dCb7785b3A3B': {'0x5Bac22268eecccDF2fa09D03eC0D0fDbA2848ba2': 115792089237316195423570985008687907853269984665640564039457584007913129639935}}\n"
     ]
    }
   ],
   "source": [
    "# grant max approval\n",
    "\n",
    "with boa.env.prank(trader):\n",
    "    for coin in [coin_a, coin_b]:\n",
    "        coin.approve(pool, 2**256-1)\n",
    "\n",
    "\n",
    "print(coin_a._storage.allowances.get())\n",
    "print(coin_b._storage.allowances.get())"
   ]
  },
  {
   "cell_type": "markdown",
   "metadata": {},
   "source": [
    "---\n",
    "\n",
    "### **2. Adding Liquidity**\n",
    "\n",
    "- #### `add_liquidity`\n",
    "\n",
    "    Function to add liquidity to the pool and mint the corresponding LP tokens.\n",
    "\n",
    "    Returns: Amount of LP tokens received (`uint256`).\n",
    "\n",
    "    Emits: `AddLiquidity`\n",
    "\n",
    "    | Input            | Type                | Description                                           |\n",
    "    | ---------------- | ------------------- | ----------------------------------------------------- |\n",
    "    | `amounts`        | `uint256[N_COINS]`  | Amount of each coin to add. We define `amount_a` as `Pool.coins(0)`, `amount_b` as `Pool.coins(1)`. |\n",
    "    | `min_mint_amount`| `uint256`           | Minimum amount of LP tokens to mint.                  |\n",
    "    | `receiver`       | `address`           | Receiver of the LP tokens; defaults to `msg.sender`.  |\n",
    "\n",
    "First, we add some liquidity in a balanced proportion and check the coin balances before and after:"
   ]
  },
  {
   "cell_type": "code",
   "execution_count": 4,
   "metadata": {},
   "outputs": [
    {
     "name": "stdout",
     "output_type": "stream",
     "text": [
      "BEFORE ADDING ANY LIQUIDITY:\n"
     ]
    },
    {
     "data": {
      "text/html": [
       "<table border=\"1\" class=\"dataframe\">\n",
       "  <thead>\n",
       "    <tr style=\"text-align: right;\">\n",
       "      <th>Asset</th>\n",
       "      <th>Balance</th>\n",
       "    </tr>\n",
       "  </thead>\n",
       "  <tbody>\n",
       "    <tr>\n",
       "      <td>Trader: Balance A</td>\n",
       "      <td>100000.0</td>\n",
       "    </tr>\n",
       "    <tr>\n",
       "      <td>Trader: Balance B</td>\n",
       "      <td>100000.0</td>\n",
       "    </tr>\n",
       "    <tr>\n",
       "      <td>Trader: LP Tokens</td>\n",
       "      <td>0.0</td>\n",
       "    </tr>\n",
       "    <tr>\n",
       "      <td>Pool: Balance A</td>\n",
       "      <td>0.0</td>\n",
       "    </tr>\n",
       "    <tr>\n",
       "      <td>Pool: Balance B</td>\n",
       "      <td>0.0</td>\n",
       "    </tr>\n",
       "  </tbody>\n",
       "</table>"
      ],
      "text/plain": [
       "<IPython.core.display.HTML object>"
      ]
     },
     "metadata": {},
     "output_type": "display_data"
    },
    {
     "name": "stdout",
     "output_type": "stream",
     "text": [
      "===============================\n",
      " \n",
      "BALANCES AFTER ADDING LIQUIDITY\n"
     ]
    },
    {
     "data": {
      "text/html": [
       "<table border=\"1\" class=\"dataframe\">\n",
       "  <thead>\n",
       "    <tr style=\"text-align: right;\">\n",
       "      <th>Asset</th>\n",
       "      <th>Balance</th>\n",
       "    </tr>\n",
       "  </thead>\n",
       "  <tbody>\n",
       "    <tr>\n",
       "      <td>Trader: Balance A</td>\n",
       "      <td>99900.0</td>\n",
       "    </tr>\n",
       "    <tr>\n",
       "      <td>Trader: Balance B</td>\n",
       "      <td>99900.0</td>\n",
       "    </tr>\n",
       "    <tr>\n",
       "      <td>Trader: LP Tokens</td>\n",
       "      <td>100.0</td>\n",
       "    </tr>\n",
       "    <tr>\n",
       "      <td>Pool: Balance A</td>\n",
       "      <td>100.0</td>\n",
       "    </tr>\n",
       "    <tr>\n",
       "      <td>Pool: Balance B</td>\n",
       "      <td>100.0</td>\n",
       "    </tr>\n",
       "  </tbody>\n",
       "</table>"
      ],
      "text/plain": [
       "<IPython.core.display.HTML object>"
      ]
     },
     "metadata": {},
     "output_type": "display_data"
    },
    {
     "name": "stdout",
     "output_type": "stream",
     "text": [
      "0\n",
      "0\n"
     ]
    }
   ],
   "source": [
    "amounts_a = 10**20  # Pool.coins(0)\n",
    "amounts_b = 10**20  # Pool.coins(1)\n",
    "min_mint_amount = 99\n",
    "receiver = trader\n",
    "\n",
    "print(\"BEFORE ADDING ANY LIQUIDITY:\")\n",
    "display(HTML(get_balances(trader, pool, coin_a, coin_b).to_html(index=False)))\n",
    "\n",
    "with boa.env.prank(trader):\n",
    "    pool.add_liquidity([amounts_a, amounts_b], min_mint_amount, receiver)\n",
    "    \n",
    "# we check again after adding liquidity\n",
    "print(\"===============================\")\n",
    "print(\" \")\n",
    "print(\"BALANCES AFTER ADDING LIQUIDITY\")\n",
    "display(HTML(get_balances(trader, pool, coin_a, coin_b).to_html(index=False)))\n",
    "\n",
    "print(coin_a.balanceOf(fee_receiver))\n",
    "print(coin_b.balanceOf(fee_receiver))"
   ]
  },
  {
   "cell_type": "markdown",
   "metadata": {},
   "source": [
    "As shown, 100 tokens of each coin was added. In exchange we received 100 LP tokens.\n",
    "\n",
    "Now lets add liquidity again, but this time in an inbalanced proportion: 10 coin_a and 100 coin_b. But before that, lets try out the `calc_token_amount` function. This function does not alter the state. It is used to calculate the LP tokens to be minted or burned when depositing or removing coins.\n",
    "\n",
    "---\n",
    "\n",
    "### **3. Calculating LP Token Amount**\n",
    "\n",
    "- #### `calc_token_amount(amounts: uint256[N_COINS], deposit: bool) -> uint256:`\n",
    "\n",
    "    Function to calculate the LP tokens to be minted or burned for depositing or removing `amounts` of coins. This method takes fees into consideration.\n",
    "\n",
    "    Returns: Amount of LP tokens deposited or withdrawn (`uint256`).\n",
    "\n",
    "    | Input            | Type                | Description                                           |\n",
    "    | ---------------- | ------------------- | ----------------------------------------------------- |\n",
    "    | `amounts`        | `uint256[N_COINS]`  | Amount of each coin to add/remove. We define `amount_a` as `Pool.coins(0)`, `amount_b` as `Pool.coins(1)`. |\n",
    "    | `deposit`        | `bool`              | `True` for depositing, `False` for removing            |\n",
    "\n",
    "Before actually adding liquidity imbalanced, lets calculate the lp tokens we receive when doing so:"
   ]
  },
  {
   "cell_type": "code",
   "execution_count": 5,
   "metadata": {},
   "outputs": [
    {
     "name": "stdout",
     "output_type": "stream",
     "text": [
      "LP Tokens to receive: 48.47325226409857\n"
     ]
    }
   ],
   "source": [
    "amounts_a = 10**19  # Pool.coins(0)\n",
    "amounts_b = 10**20  # Pool.coins(1)\n",
    "\n",
    "with boa.env.prank(trader):\n",
    "    lp_token = pool.calc_token_amount([amounts_a, amounts_b], True)\n",
    "\n",
    "print(f\"LP Tokens to receive: {lp_token / 1e18}\")"
   ]
  },
  {
   "cell_type": "markdown",
   "metadata": {},
   "source": [
    "Adding 10^19 of coin_a and 10^20 of coin_b *should* give us 48473252264098567798 LP tokens. \n",
    "\n",
    "Now, lets actually add liquidity to see how much we receive:"
   ]
  },
  {
   "cell_type": "code",
   "execution_count": 6,
   "metadata": {},
   "outputs": [
    {
     "data": {
      "text/plain": [
       "10736363"
      ]
     },
     "execution_count": 6,
     "metadata": {},
     "output_type": "execute_result"
    }
   ],
   "source": [
    "amounts_a = 10**19\n",
    "amounts_b = 10**20\n",
    "precision_a = pool.precisions()[0]\n",
    "precision_b = pool.precisions()[1]\n",
    "pool_balance_a = pool.balances(0)\n",
    "pool_balance_b = pool.balances(1)\n",
    "xp_a = pool_balance_a * precision_a\n",
    "xp_b = pool_balance_b * precision_b\n",
    "\n",
    "pool.calc_token_fee([amounts_a, amounts_b], [xp_a, xp_b])"
   ]
  },
  {
   "cell_type": "code",
   "execution_count": 7,
   "metadata": {},
   "outputs": [
    {
     "name": "stdout",
     "output_type": "stream",
     "text": [
      "BEFORE ADDING ANY LIQUIDTY:\n"
     ]
    },
    {
     "data": {
      "text/html": [
       "<table border=\"1\" class=\"dataframe\">\n",
       "  <thead>\n",
       "    <tr style=\"text-align: right;\">\n",
       "      <th>Asset</th>\n",
       "      <th>Balance</th>\n",
       "    </tr>\n",
       "  </thead>\n",
       "  <tbody>\n",
       "    <tr>\n",
       "      <td>Trader: Balance A</td>\n",
       "      <td>99900.0</td>\n",
       "    </tr>\n",
       "    <tr>\n",
       "      <td>Trader: Balance B</td>\n",
       "      <td>99900.0</td>\n",
       "    </tr>\n",
       "    <tr>\n",
       "      <td>Trader: LP Tokens</td>\n",
       "      <td>100.0</td>\n",
       "    </tr>\n",
       "    <tr>\n",
       "      <td>Pool: Balance A</td>\n",
       "      <td>100.0</td>\n",
       "    </tr>\n",
       "    <tr>\n",
       "      <td>Pool: Balance B</td>\n",
       "      <td>100.0</td>\n",
       "    </tr>\n",
       "  </tbody>\n",
       "</table>"
      ],
      "text/plain": [
       "<IPython.core.display.HTML object>"
      ]
     },
     "metadata": {},
     "output_type": "display_data"
    },
    {
     "name": "stdout",
     "output_type": "stream",
     "text": [
      "===============================\n",
      "\n",
      "AFTER ADDING LIQUIDTY:\n"
     ]
    },
    {
     "data": {
      "text/html": [
       "<table border=\"1\" class=\"dataframe\">\n",
       "  <thead>\n",
       "    <tr style=\"text-align: right;\">\n",
       "      <th>Asset</th>\n",
       "      <th>Balance</th>\n",
       "    </tr>\n",
       "  </thead>\n",
       "  <tbody>\n",
       "    <tr>\n",
       "      <td>Trader: Balance A</td>\n",
       "      <td>99890.000000</td>\n",
       "    </tr>\n",
       "    <tr>\n",
       "      <td>Trader: Balance B</td>\n",
       "      <td>99800.000000</td>\n",
       "    </tr>\n",
       "    <tr>\n",
       "      <td>Trader: LP Tokens</td>\n",
       "      <td>148.473252</td>\n",
       "    </tr>\n",
       "    <tr>\n",
       "      <td>Pool: Balance A</td>\n",
       "      <td>110.000000</td>\n",
       "    </tr>\n",
       "    <tr>\n",
       "      <td>Pool: Balance B</td>\n",
       "      <td>200.000000</td>\n",
       "    </tr>\n",
       "  </tbody>\n",
       "</table>"
      ],
      "text/plain": [
       "<IPython.core.display.HTML object>"
      ]
     },
     "metadata": {},
     "output_type": "display_data"
    }
   ],
   "source": [
    "amounts_a = 10**19  # Pool.coins(0)\n",
    "amounts_b = 10**20  # Pool.coins(1)\n",
    "min_mint_amount = 99\n",
    "receiver = trader\n",
    "\n",
    "# we check the balances before providing liquidity\n",
    "print(\"BEFORE ADDING ANY LIQUIDTY:\")\n",
    "display(HTML(get_balances(trader, pool, coin_a, coin_b).to_html(index=False)))\n",
    "\n",
    "with boa.env.prank(trader):\n",
    "    pool.add_liquidity([amounts_a, amounts_b], min_mint_amount, receiver)\n",
    "\n",
    "# we check again after adding liquidity\n",
    "print(\"===============================\")\n",
    "print(\"\")\n",
    "print(\"AFTER ADDING LIQUIDTY:\")\n",
    "display(HTML(get_balances(trader, pool, coin_a, coin_b).to_html(index=False)))"
   ]
  },
  {
   "cell_type": "markdown",
   "metadata": {},
   "source": [
    "As shown, the trader receives the amount calculated in `calc_token_fee`."
   ]
  },
  {
   "cell_type": "markdown",
   "metadata": {},
   "source": [
    "### **4. Calculate Fee Whenn Adding Liquidity**\n",
    "\n",
    "- #### `calc_token_fee(amounts: uint256[N_COINS], xp: uint256[N_COINS]) -> uint256:`\n",
    "\n",
    "    Function to calculate the charged fee on `amounts` when adding liquidity.\n",
    "\n",
    "    Returns: Charged fee (`uint256`).\n",
    "\n",
    "    | Input            | Type                | Description                                           |\n",
    "    | ---------------- | ------------------- | ----------------------------------------------------- |\n",
    "    | `amounts`        | `uint256[N_COINS]`  | Amount of each coin to add. `amount_a` is for `Pool.coins(0)`, `amount_b` `Pool.coins(1)`. |\n",
    "    | `xp`| `uint256[N_COINS]`               | Pool balances multiplied by the coin precisions.      |\n",
    "\n",
    "\n",
    "Minimum fee when adding liquidity is 100000, this occurs when the pool is perfectly balanced and liquidity is added in a balanced portion?"
   ]
  },
  {
   "cell_type": "code",
   "execution_count": 8,
   "metadata": {},
   "outputs": [
    {
     "data": {
      "text/plain": [
       "18487938"
      ]
     },
     "execution_count": 8,
     "metadata": {},
     "output_type": "execute_result"
    }
   ],
   "source": [
    "amounts_a = 10**19\n",
    "amounts_b = 10**20\n",
    "precision_a = pool.precisions()[0]\n",
    "precision_b = pool.precisions()[0]\n",
    "pool_balance_a = pool.balances(0)\n",
    "pool_balance_b = pool.balances(1)\n",
    "xp_a = pool_balance_a * precision_a\n",
    "xp_b = pool_balance_b * precision_b\n",
    "\n",
    "pool.calc_token_fee([amounts_a, amounts_b], [xp_a, xp_b])"
   ]
  },
  {
   "cell_type": "markdown",
   "metadata": {},
   "source": [
    "One might try to set `pool_balance_a` and/or `pool_balance_b` to 0 to calculate the fee when adding liquidity to an empty pool: This does not work (dividing with 0 is not possible) for the sole reason that when adding liquidity, the fee is calculated based on the pool balances AFTER the tokens have been transfered into the pool.\n",
    "\n",
    "---\n",
    "\n",
    "Lets check the fees. We need to call `remove_liquidity_one_coin` as this function calls the internal `_claim_admin_fees` function. The fees that occur for removing single sided is not being cosidered in the fee claiming, as the fee claiming is the first \"action\" in the function."
   ]
  },
  {
   "cell_type": "code",
   "execution_count": 9,
   "metadata": {},
   "outputs": [
    {
     "name": "stdout",
     "output_type": "stream",
     "text": [
      "0\n",
      "0\n",
      "49858304293238500\n",
      "90651462351342729\n"
     ]
    }
   ],
   "source": [
    "print(coin_a.balanceOf(fee_receiver))\n",
    "print(coin_b.balanceOf(fee_receiver))\n",
    "\n",
    "with boa.env.prank(trader):\n",
    "    pool.remove_liquidity_one_coin(10**18, 0, 0, trader)\n",
    "\n",
    "print(coin_a.balanceOf(fee_receiver))\n",
    "print(coin_b.balanceOf(fee_receiver))"
   ]
  },
  {
   "cell_type": "code",
   "execution_count": 10,
   "metadata": {},
   "outputs": [
    {
     "data": {
      "text/plain": [
       "90651462351342729"
      ]
     },
     "execution_count": 10,
     "metadata": {},
     "output_type": "execute_result"
    }
   ],
   "source": [
    "fee = 10736363\n",
    "\n",
    "49858304293238500\n",
    "90651462351342729"
   ]
  }
 ],
 "metadata": {
  "kernelspec": {
   "display_name": "venv-notebook",
   "language": "python",
   "name": "python3"
  },
  "language_info": {
   "codemirror_mode": {
    "name": "ipython",
    "version": 3
   },
   "file_extension": ".py",
   "mimetype": "text/x-python",
   "name": "python",
   "nbconvert_exporter": "python",
   "pygments_lexer": "ipython3",
   "version": "3.12.1"
  }
 },
 "nbformat": 4,
 "nbformat_minor": 2
}
